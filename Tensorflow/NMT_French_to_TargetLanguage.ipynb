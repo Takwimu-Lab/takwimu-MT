{
  "nbformat": 4,
  "nbformat_minor": 0,
  "metadata": {
    "colab": {
      "name": "NMT_French_to_TargetLanguage.ipynb",
      "provenance": [],
      "collapsed_sections": []
    },
    "kernelspec": {
      "name": "python3",
      "display_name": "Python 3"
    },
    "widgets": {
      "application/vnd.jupyter.widget-state+json": {
        "7fed4a4c0819449a9c096ef5f4a1df5d": {
          "model_module": "@jupyter-widgets/controls",
          "model_name": "HBoxModel",
          "state": {
            "_view_name": "HBoxView",
            "_dom_classes": [],
            "_model_name": "HBoxModel",
            "_view_module": "@jupyter-widgets/controls",
            "_model_module_version": "1.5.0",
            "_view_count": null,
            "_view_module_version": "1.5.0",
            "box_style": "",
            "layout": "IPY_MODEL_d33d63ba3b4d418a82a1e509cf86da8c",
            "_model_module": "@jupyter-widgets/controls",
            "children": [
              "IPY_MODEL_7f29dd73e53c4535bf2b15512ac936a8",
              "IPY_MODEL_afc8ea4303164758a53328da6d8d5dd4"
            ]
          }
        },
        "d33d63ba3b4d418a82a1e509cf86da8c": {
          "model_module": "@jupyter-widgets/base",
          "model_name": "LayoutModel",
          "state": {
            "_view_name": "LayoutView",
            "grid_template_rows": null,
            "right": null,
            "justify_content": null,
            "_view_module": "@jupyter-widgets/base",
            "overflow": null,
            "_model_module_version": "1.2.0",
            "_view_count": null,
            "flex_flow": null,
            "width": null,
            "min_width": null,
            "border": null,
            "align_items": null,
            "bottom": null,
            "_model_module": "@jupyter-widgets/base",
            "top": null,
            "grid_column": null,
            "overflow_y": null,
            "overflow_x": null,
            "grid_auto_flow": null,
            "grid_area": null,
            "grid_template_columns": null,
            "flex": null,
            "_model_name": "LayoutModel",
            "justify_items": null,
            "grid_row": null,
            "max_height": null,
            "align_content": null,
            "visibility": null,
            "align_self": null,
            "height": null,
            "min_height": null,
            "padding": null,
            "grid_auto_rows": null,
            "grid_gap": null,
            "max_width": null,
            "order": null,
            "_view_module_version": "1.2.0",
            "grid_template_areas": null,
            "object_position": null,
            "object_fit": null,
            "grid_auto_columns": null,
            "margin": null,
            "display": null,
            "left": null
          }
        },
        "7f29dd73e53c4535bf2b15512ac936a8": {
          "model_module": "@jupyter-widgets/controls",
          "model_name": "FloatProgressModel",
          "state": {
            "_view_name": "ProgressView",
            "style": "IPY_MODEL_5186cf22cd944efd97f77fb2fe7f92a9",
            "_dom_classes": [],
            "description": "100%",
            "_model_name": "FloatProgressModel",
            "bar_style": "success",
            "max": 26630,
            "_view_module": "@jupyter-widgets/controls",
            "_model_module_version": "1.5.0",
            "value": 26630,
            "_view_count": null,
            "_view_module_version": "1.5.0",
            "orientation": "horizontal",
            "min": 0,
            "description_tooltip": null,
            "_model_module": "@jupyter-widgets/controls",
            "layout": "IPY_MODEL_b6d079e18af24bf8ae02744b50162418"
          }
        },
        "afc8ea4303164758a53328da6d8d5dd4": {
          "model_module": "@jupyter-widgets/controls",
          "model_name": "HTMLModel",
          "state": {
            "_view_name": "HTMLView",
            "style": "IPY_MODEL_e41612ca2b83416fa076f711347d3980",
            "_dom_classes": [],
            "description": "",
            "_model_name": "HTMLModel",
            "placeholder": "​",
            "_view_module": "@jupyter-widgets/controls",
            "_model_module_version": "1.5.0",
            "value": " 26630/26630 [00:02&lt;00:00, 12519.48it/s]",
            "_view_count": null,
            "_view_module_version": "1.5.0",
            "description_tooltip": null,
            "_model_module": "@jupyter-widgets/controls",
            "layout": "IPY_MODEL_d76e6fd9abbe4b88bf4fdbb66c5509b6"
          }
        },
        "5186cf22cd944efd97f77fb2fe7f92a9": {
          "model_module": "@jupyter-widgets/controls",
          "model_name": "ProgressStyleModel",
          "state": {
            "_view_name": "StyleView",
            "_model_name": "ProgressStyleModel",
            "description_width": "initial",
            "_view_module": "@jupyter-widgets/base",
            "_model_module_version": "1.5.0",
            "_view_count": null,
            "_view_module_version": "1.2.0",
            "bar_color": null,
            "_model_module": "@jupyter-widgets/controls"
          }
        },
        "b6d079e18af24bf8ae02744b50162418": {
          "model_module": "@jupyter-widgets/base",
          "model_name": "LayoutModel",
          "state": {
            "_view_name": "LayoutView",
            "grid_template_rows": null,
            "right": null,
            "justify_content": null,
            "_view_module": "@jupyter-widgets/base",
            "overflow": null,
            "_model_module_version": "1.2.0",
            "_view_count": null,
            "flex_flow": null,
            "width": null,
            "min_width": null,
            "border": null,
            "align_items": null,
            "bottom": null,
            "_model_module": "@jupyter-widgets/base",
            "top": null,
            "grid_column": null,
            "overflow_y": null,
            "overflow_x": null,
            "grid_auto_flow": null,
            "grid_area": null,
            "grid_template_columns": null,
            "flex": null,
            "_model_name": "LayoutModel",
            "justify_items": null,
            "grid_row": null,
            "max_height": null,
            "align_content": null,
            "visibility": null,
            "align_self": null,
            "height": null,
            "min_height": null,
            "padding": null,
            "grid_auto_rows": null,
            "grid_gap": null,
            "max_width": null,
            "order": null,
            "_view_module_version": "1.2.0",
            "grid_template_areas": null,
            "object_position": null,
            "object_fit": null,
            "grid_auto_columns": null,
            "margin": null,
            "display": null,
            "left": null
          }
        },
        "e41612ca2b83416fa076f711347d3980": {
          "model_module": "@jupyter-widgets/controls",
          "model_name": "DescriptionStyleModel",
          "state": {
            "_view_name": "StyleView",
            "_model_name": "DescriptionStyleModel",
            "description_width": "",
            "_view_module": "@jupyter-widgets/base",
            "_model_module_version": "1.5.0",
            "_view_count": null,
            "_view_module_version": "1.2.0",
            "_model_module": "@jupyter-widgets/controls"
          }
        },
        "d76e6fd9abbe4b88bf4fdbb66c5509b6": {
          "model_module": "@jupyter-widgets/base",
          "model_name": "LayoutModel",
          "state": {
            "_view_name": "LayoutView",
            "grid_template_rows": null,
            "right": null,
            "justify_content": null,
            "_view_module": "@jupyter-widgets/base",
            "overflow": null,
            "_model_module_version": "1.2.0",
            "_view_count": null,
            "flex_flow": null,
            "width": null,
            "min_width": null,
            "border": null,
            "align_items": null,
            "bottom": null,
            "_model_module": "@jupyter-widgets/base",
            "top": null,
            "grid_column": null,
            "overflow_y": null,
            "overflow_x": null,
            "grid_auto_flow": null,
            "grid_area": null,
            "grid_template_columns": null,
            "flex": null,
            "_model_name": "LayoutModel",
            "justify_items": null,
            "grid_row": null,
            "max_height": null,
            "align_content": null,
            "visibility": null,
            "align_self": null,
            "height": null,
            "min_height": null,
            "padding": null,
            "grid_auto_rows": null,
            "grid_gap": null,
            "max_width": null,
            "order": null,
            "_view_module_version": "1.2.0",
            "grid_template_areas": null,
            "object_position": null,
            "object_fit": null,
            "grid_auto_columns": null,
            "margin": null,
            "display": null,
            "left": null
          }
        },
        "5f8200bca59842aaa435685444d31569": {
          "model_module": "@jupyter-widgets/controls",
          "model_name": "HBoxModel",
          "state": {
            "_view_name": "HBoxView",
            "_dom_classes": [],
            "_model_name": "HBoxModel",
            "_view_module": "@jupyter-widgets/controls",
            "_model_module_version": "1.5.0",
            "_view_count": null,
            "_view_module_version": "1.5.0",
            "box_style": "",
            "layout": "IPY_MODEL_1c85625b96704f989b9675ce1837e950",
            "_model_module": "@jupyter-widgets/controls",
            "children": [
              "IPY_MODEL_e8a79f86641c4d8c80f94e41e27f622e",
              "IPY_MODEL_93bc1e735e3d44e2b8ed73b96693b9f1"
            ]
          }
        },
        "1c85625b96704f989b9675ce1837e950": {
          "model_module": "@jupyter-widgets/base",
          "model_name": "LayoutModel",
          "state": {
            "_view_name": "LayoutView",
            "grid_template_rows": null,
            "right": null,
            "justify_content": null,
            "_view_module": "@jupyter-widgets/base",
            "overflow": null,
            "_model_module_version": "1.2.0",
            "_view_count": null,
            "flex_flow": null,
            "width": null,
            "min_width": null,
            "border": null,
            "align_items": null,
            "bottom": null,
            "_model_module": "@jupyter-widgets/base",
            "top": null,
            "grid_column": null,
            "overflow_y": null,
            "overflow_x": null,
            "grid_auto_flow": null,
            "grid_area": null,
            "grid_template_columns": null,
            "flex": null,
            "_model_name": "LayoutModel",
            "justify_items": null,
            "grid_row": null,
            "max_height": null,
            "align_content": null,
            "visibility": null,
            "align_self": null,
            "height": null,
            "min_height": null,
            "padding": null,
            "grid_auto_rows": null,
            "grid_gap": null,
            "max_width": null,
            "order": null,
            "_view_module_version": "1.2.0",
            "grid_template_areas": null,
            "object_position": null,
            "object_fit": null,
            "grid_auto_columns": null,
            "margin": null,
            "display": null,
            "left": null
          }
        },
        "e8a79f86641c4d8c80f94e41e27f622e": {
          "model_module": "@jupyter-widgets/controls",
          "model_name": "FloatProgressModel",
          "state": {
            "_view_name": "ProgressView",
            "style": "IPY_MODEL_2088bd99bc7647b4a0a389df7f8864aa",
            "_dom_classes": [],
            "description": "100%",
            "_model_name": "FloatProgressModel",
            "bar_style": "success",
            "max": 26630,
            "_view_module": "@jupyter-widgets/controls",
            "_model_module_version": "1.5.0",
            "value": 26630,
            "_view_count": null,
            "_view_module_version": "1.5.0",
            "orientation": "horizontal",
            "min": 0,
            "description_tooltip": null,
            "_model_module": "@jupyter-widgets/controls",
            "layout": "IPY_MODEL_2406957f59854947a96544769ba7b3d1"
          }
        },
        "93bc1e735e3d44e2b8ed73b96693b9f1": {
          "model_module": "@jupyter-widgets/controls",
          "model_name": "HTMLModel",
          "state": {
            "_view_name": "HTMLView",
            "style": "IPY_MODEL_cff36fa45c2e485b839e916be50f6d0e",
            "_dom_classes": [],
            "description": "",
            "_model_name": "HTMLModel",
            "placeholder": "​",
            "_view_module": "@jupyter-widgets/controls",
            "_model_module_version": "1.5.0",
            "value": " 26630/26630 [4:37:37&lt;00:00,  1.60it/s]",
            "_view_count": null,
            "_view_module_version": "1.5.0",
            "description_tooltip": null,
            "_model_module": "@jupyter-widgets/controls",
            "layout": "IPY_MODEL_76b920c84c0a47798a0ff993cd9ecc0b"
          }
        },
        "2088bd99bc7647b4a0a389df7f8864aa": {
          "model_module": "@jupyter-widgets/controls",
          "model_name": "ProgressStyleModel",
          "state": {
            "_view_name": "StyleView",
            "_model_name": "ProgressStyleModel",
            "description_width": "initial",
            "_view_module": "@jupyter-widgets/base",
            "_model_module_version": "1.5.0",
            "_view_count": null,
            "_view_module_version": "1.2.0",
            "bar_color": null,
            "_model_module": "@jupyter-widgets/controls"
          }
        },
        "2406957f59854947a96544769ba7b3d1": {
          "model_module": "@jupyter-widgets/base",
          "model_name": "LayoutModel",
          "state": {
            "_view_name": "LayoutView",
            "grid_template_rows": null,
            "right": null,
            "justify_content": null,
            "_view_module": "@jupyter-widgets/base",
            "overflow": null,
            "_model_module_version": "1.2.0",
            "_view_count": null,
            "flex_flow": null,
            "width": null,
            "min_width": null,
            "border": null,
            "align_items": null,
            "bottom": null,
            "_model_module": "@jupyter-widgets/base",
            "top": null,
            "grid_column": null,
            "overflow_y": null,
            "overflow_x": null,
            "grid_auto_flow": null,
            "grid_area": null,
            "grid_template_columns": null,
            "flex": null,
            "_model_name": "LayoutModel",
            "justify_items": null,
            "grid_row": null,
            "max_height": null,
            "align_content": null,
            "visibility": null,
            "align_self": null,
            "height": null,
            "min_height": null,
            "padding": null,
            "grid_auto_rows": null,
            "grid_gap": null,
            "max_width": null,
            "order": null,
            "_view_module_version": "1.2.0",
            "grid_template_areas": null,
            "object_position": null,
            "object_fit": null,
            "grid_auto_columns": null,
            "margin": null,
            "display": null,
            "left": null
          }
        },
        "cff36fa45c2e485b839e916be50f6d0e": {
          "model_module": "@jupyter-widgets/controls",
          "model_name": "DescriptionStyleModel",
          "state": {
            "_view_name": "StyleView",
            "_model_name": "DescriptionStyleModel",
            "description_width": "",
            "_view_module": "@jupyter-widgets/base",
            "_model_module_version": "1.5.0",
            "_view_count": null,
            "_view_module_version": "1.2.0",
            "_model_module": "@jupyter-widgets/controls"
          }
        },
        "76b920c84c0a47798a0ff993cd9ecc0b": {
          "model_module": "@jupyter-widgets/base",
          "model_name": "LayoutModel",
          "state": {
            "_view_name": "LayoutView",
            "grid_template_rows": null,
            "right": null,
            "justify_content": null,
            "_view_module": "@jupyter-widgets/base",
            "overflow": null,
            "_model_module_version": "1.2.0",
            "_view_count": null,
            "flex_flow": null,
            "width": null,
            "min_width": null,
            "border": null,
            "align_items": null,
            "bottom": null,
            "_model_module": "@jupyter-widgets/base",
            "top": null,
            "grid_column": null,
            "overflow_y": null,
            "overflow_x": null,
            "grid_auto_flow": null,
            "grid_area": null,
            "grid_template_columns": null,
            "flex": null,
            "_model_name": "LayoutModel",
            "justify_items": null,
            "grid_row": null,
            "max_height": null,
            "align_content": null,
            "visibility": null,
            "align_self": null,
            "height": null,
            "min_height": null,
            "padding": null,
            "grid_auto_rows": null,
            "grid_gap": null,
            "max_width": null,
            "order": null,
            "_view_module_version": "1.2.0",
            "grid_template_areas": null,
            "object_position": null,
            "object_fit": null,
            "grid_auto_columns": null,
            "margin": null,
            "display": null,
            "left": null
          }
        },
        "27fd0040e65e45c6b1182c7881eb242c": {
          "model_module": "@jupyter-widgets/controls",
          "model_name": "HBoxModel",
          "state": {
            "_view_name": "HBoxView",
            "_dom_classes": [],
            "_model_name": "HBoxModel",
            "_view_module": "@jupyter-widgets/controls",
            "_model_module_version": "1.5.0",
            "_view_count": null,
            "_view_module_version": "1.5.0",
            "box_style": "",
            "layout": "IPY_MODEL_e0ceedd1db044ba1a4e2e232b888d0f2",
            "_model_module": "@jupyter-widgets/controls",
            "children": [
              "IPY_MODEL_863bb4e08d9e47fc92756c24201c7b47",
              "IPY_MODEL_ff14435bdcba493d87d443a4bd9f9901"
            ]
          }
        },
        "e0ceedd1db044ba1a4e2e232b888d0f2": {
          "model_module": "@jupyter-widgets/base",
          "model_name": "LayoutModel",
          "state": {
            "_view_name": "LayoutView",
            "grid_template_rows": null,
            "right": null,
            "justify_content": null,
            "_view_module": "@jupyter-widgets/base",
            "overflow": null,
            "_model_module_version": "1.2.0",
            "_view_count": null,
            "flex_flow": null,
            "width": null,
            "min_width": null,
            "border": null,
            "align_items": null,
            "bottom": null,
            "_model_module": "@jupyter-widgets/base",
            "top": null,
            "grid_column": null,
            "overflow_y": null,
            "overflow_x": null,
            "grid_auto_flow": null,
            "grid_area": null,
            "grid_template_columns": null,
            "flex": null,
            "_model_name": "LayoutModel",
            "justify_items": null,
            "grid_row": null,
            "max_height": null,
            "align_content": null,
            "visibility": null,
            "align_self": null,
            "height": null,
            "min_height": null,
            "padding": null,
            "grid_auto_rows": null,
            "grid_gap": null,
            "max_width": null,
            "order": null,
            "_view_module_version": "1.2.0",
            "grid_template_areas": null,
            "object_position": null,
            "object_fit": null,
            "grid_auto_columns": null,
            "margin": null,
            "display": null,
            "left": null
          }
        },
        "863bb4e08d9e47fc92756c24201c7b47": {
          "model_module": "@jupyter-widgets/controls",
          "model_name": "FloatProgressModel",
          "state": {
            "_view_name": "ProgressView",
            "style": "IPY_MODEL_b136be59f8354548a309fd9f8b1b55a5",
            "_dom_classes": [],
            "description": "100%",
            "_model_name": "FloatProgressModel",
            "bar_style": "success",
            "max": 26630,
            "_view_module": "@jupyter-widgets/controls",
            "_model_module_version": "1.5.0",
            "value": 26630,
            "_view_count": null,
            "_view_module_version": "1.5.0",
            "orientation": "horizontal",
            "min": 0,
            "description_tooltip": null,
            "_model_module": "@jupyter-widgets/controls",
            "layout": "IPY_MODEL_f9303752d1944a70894d5934d489d1bb"
          }
        },
        "ff14435bdcba493d87d443a4bd9f9901": {
          "model_module": "@jupyter-widgets/controls",
          "model_name": "HTMLModel",
          "state": {
            "_view_name": "HTMLView",
            "style": "IPY_MODEL_5fbaed5bbdb24d56a1f3dfe86e52a3e9",
            "_dom_classes": [],
            "description": "",
            "_model_name": "HTMLModel",
            "placeholder": "​",
            "_view_module": "@jupyter-widgets/controls",
            "_model_module_version": "1.5.0",
            "value": " 26630/26630 [00:06&lt;00:00, 3967.92it/s]",
            "_view_count": null,
            "_view_module_version": "1.5.0",
            "description_tooltip": null,
            "_model_module": "@jupyter-widgets/controls",
            "layout": "IPY_MODEL_5b866866177545a4b615e506d7ea3501"
          }
        },
        "b136be59f8354548a309fd9f8b1b55a5": {
          "model_module": "@jupyter-widgets/controls",
          "model_name": "ProgressStyleModel",
          "state": {
            "_view_name": "StyleView",
            "_model_name": "ProgressStyleModel",
            "description_width": "initial",
            "_view_module": "@jupyter-widgets/base",
            "_model_module_version": "1.5.0",
            "_view_count": null,
            "_view_module_version": "1.2.0",
            "bar_color": null,
            "_model_module": "@jupyter-widgets/controls"
          }
        },
        "f9303752d1944a70894d5934d489d1bb": {
          "model_module": "@jupyter-widgets/base",
          "model_name": "LayoutModel",
          "state": {
            "_view_name": "LayoutView",
            "grid_template_rows": null,
            "right": null,
            "justify_content": null,
            "_view_module": "@jupyter-widgets/base",
            "overflow": null,
            "_model_module_version": "1.2.0",
            "_view_count": null,
            "flex_flow": null,
            "width": null,
            "min_width": null,
            "border": null,
            "align_items": null,
            "bottom": null,
            "_model_module": "@jupyter-widgets/base",
            "top": null,
            "grid_column": null,
            "overflow_y": null,
            "overflow_x": null,
            "grid_auto_flow": null,
            "grid_area": null,
            "grid_template_columns": null,
            "flex": null,
            "_model_name": "LayoutModel",
            "justify_items": null,
            "grid_row": null,
            "max_height": null,
            "align_content": null,
            "visibility": null,
            "align_self": null,
            "height": null,
            "min_height": null,
            "padding": null,
            "grid_auto_rows": null,
            "grid_gap": null,
            "max_width": null,
            "order": null,
            "_view_module_version": "1.2.0",
            "grid_template_areas": null,
            "object_position": null,
            "object_fit": null,
            "grid_auto_columns": null,
            "margin": null,
            "display": null,
            "left": null
          }
        },
        "5fbaed5bbdb24d56a1f3dfe86e52a3e9": {
          "model_module": "@jupyter-widgets/controls",
          "model_name": "DescriptionStyleModel",
          "state": {
            "_view_name": "StyleView",
            "_model_name": "DescriptionStyleModel",
            "description_width": "",
            "_view_module": "@jupyter-widgets/base",
            "_model_module_version": "1.5.0",
            "_view_count": null,
            "_view_module_version": "1.2.0",
            "_model_module": "@jupyter-widgets/controls"
          }
        },
        "5b866866177545a4b615e506d7ea3501": {
          "model_module": "@jupyter-widgets/base",
          "model_name": "LayoutModel",
          "state": {
            "_view_name": "LayoutView",
            "grid_template_rows": null,
            "right": null,
            "justify_content": null,
            "_view_module": "@jupyter-widgets/base",
            "overflow": null,
            "_model_module_version": "1.2.0",
            "_view_count": null,
            "flex_flow": null,
            "width": null,
            "min_width": null,
            "border": null,
            "align_items": null,
            "bottom": null,
            "_model_module": "@jupyter-widgets/base",
            "top": null,
            "grid_column": null,
            "overflow_y": null,
            "overflow_x": null,
            "grid_auto_flow": null,
            "grid_area": null,
            "grid_template_columns": null,
            "flex": null,
            "_model_name": "LayoutModel",
            "justify_items": null,
            "grid_row": null,
            "max_height": null,
            "align_content": null,
            "visibility": null,
            "align_self": null,
            "height": null,
            "min_height": null,
            "padding": null,
            "grid_auto_rows": null,
            "grid_gap": null,
            "max_width": null,
            "order": null,
            "_view_module_version": "1.2.0",
            "grid_template_areas": null,
            "object_position": null,
            "object_fit": null,
            "grid_auto_columns": null,
            "margin": null,
            "display": null,
            "left": null
          }
        },
        "252e2ef4487c41189b99e764e53a1efc": {
          "model_module": "@jupyter-widgets/controls",
          "model_name": "HBoxModel",
          "state": {
            "_view_name": "HBoxView",
            "_dom_classes": [],
            "_model_name": "HBoxModel",
            "_view_module": "@jupyter-widgets/controls",
            "_model_module_version": "1.5.0",
            "_view_count": null,
            "_view_module_version": "1.5.0",
            "box_style": "",
            "layout": "IPY_MODEL_1d7f7d2dcfcc48d89b650593f1902ceb",
            "_model_module": "@jupyter-widgets/controls",
            "children": [
              "IPY_MODEL_de38bba1e30f4af9b64ae2d9d7c1e0a1",
              "IPY_MODEL_2be2df582b0d4cf1804f371ea4c99dcf"
            ]
          }
        },
        "1d7f7d2dcfcc48d89b650593f1902ceb": {
          "model_module": "@jupyter-widgets/base",
          "model_name": "LayoutModel",
          "state": {
            "_view_name": "LayoutView",
            "grid_template_rows": null,
            "right": null,
            "justify_content": null,
            "_view_module": "@jupyter-widgets/base",
            "overflow": null,
            "_model_module_version": "1.2.0",
            "_view_count": null,
            "flex_flow": null,
            "width": null,
            "min_width": null,
            "border": null,
            "align_items": null,
            "bottom": null,
            "_model_module": "@jupyter-widgets/base",
            "top": null,
            "grid_column": null,
            "overflow_y": null,
            "overflow_x": null,
            "grid_auto_flow": null,
            "grid_area": null,
            "grid_template_columns": null,
            "flex": null,
            "_model_name": "LayoutModel",
            "justify_items": null,
            "grid_row": null,
            "max_height": null,
            "align_content": null,
            "visibility": null,
            "align_self": null,
            "height": null,
            "min_height": null,
            "padding": null,
            "grid_auto_rows": null,
            "grid_gap": null,
            "max_width": null,
            "order": null,
            "_view_module_version": "1.2.0",
            "grid_template_areas": null,
            "object_position": null,
            "object_fit": null,
            "grid_auto_columns": null,
            "margin": null,
            "display": null,
            "left": null
          }
        },
        "de38bba1e30f4af9b64ae2d9d7c1e0a1": {
          "model_module": "@jupyter-widgets/controls",
          "model_name": "FloatProgressModel",
          "state": {
            "_view_name": "ProgressView",
            "style": "IPY_MODEL_0da4c37a4e594144b45ddd0fb138c375",
            "_dom_classes": [],
            "description": "100%",
            "_model_name": "FloatProgressModel",
            "bar_style": "success",
            "max": 5893,
            "_view_module": "@jupyter-widgets/controls",
            "_model_module_version": "1.5.0",
            "value": 5893,
            "_view_count": null,
            "_view_module_version": "1.5.0",
            "orientation": "horizontal",
            "min": 0,
            "description_tooltip": null,
            "_model_module": "@jupyter-widgets/controls",
            "layout": "IPY_MODEL_e3d2a7fa239d4784b182f1b117aa957f"
          }
        },
        "2be2df582b0d4cf1804f371ea4c99dcf": {
          "model_module": "@jupyter-widgets/controls",
          "model_name": "HTMLModel",
          "state": {
            "_view_name": "HTMLView",
            "style": "IPY_MODEL_f94681c12af8488e88f2bb7cbe7d72ac",
            "_dom_classes": [],
            "description": "",
            "_model_name": "HTMLModel",
            "placeholder": "​",
            "_view_module": "@jupyter-widgets/controls",
            "_model_module_version": "1.5.0",
            "value": " 5893/5893 [1:27:11&lt;00:00,  1.13it/s]",
            "_view_count": null,
            "_view_module_version": "1.5.0",
            "description_tooltip": null,
            "_model_module": "@jupyter-widgets/controls",
            "layout": "IPY_MODEL_33aa8c4380834e1dbc06db7a4e8b42d2"
          }
        },
        "0da4c37a4e594144b45ddd0fb138c375": {
          "model_module": "@jupyter-widgets/controls",
          "model_name": "ProgressStyleModel",
          "state": {
            "_view_name": "StyleView",
            "_model_name": "ProgressStyleModel",
            "description_width": "initial",
            "_view_module": "@jupyter-widgets/base",
            "_model_module_version": "1.5.0",
            "_view_count": null,
            "_view_module_version": "1.2.0",
            "bar_color": null,
            "_model_module": "@jupyter-widgets/controls"
          }
        },
        "e3d2a7fa239d4784b182f1b117aa957f": {
          "model_module": "@jupyter-widgets/base",
          "model_name": "LayoutModel",
          "state": {
            "_view_name": "LayoutView",
            "grid_template_rows": null,
            "right": null,
            "justify_content": null,
            "_view_module": "@jupyter-widgets/base",
            "overflow": null,
            "_model_module_version": "1.2.0",
            "_view_count": null,
            "flex_flow": null,
            "width": null,
            "min_width": null,
            "border": null,
            "align_items": null,
            "bottom": null,
            "_model_module": "@jupyter-widgets/base",
            "top": null,
            "grid_column": null,
            "overflow_y": null,
            "overflow_x": null,
            "grid_auto_flow": null,
            "grid_area": null,
            "grid_template_columns": null,
            "flex": null,
            "_model_name": "LayoutModel",
            "justify_items": null,
            "grid_row": null,
            "max_height": null,
            "align_content": null,
            "visibility": null,
            "align_self": null,
            "height": null,
            "min_height": null,
            "padding": null,
            "grid_auto_rows": null,
            "grid_gap": null,
            "max_width": null,
            "order": null,
            "_view_module_version": "1.2.0",
            "grid_template_areas": null,
            "object_position": null,
            "object_fit": null,
            "grid_auto_columns": null,
            "margin": null,
            "display": null,
            "left": null
          }
        },
        "f94681c12af8488e88f2bb7cbe7d72ac": {
          "model_module": "@jupyter-widgets/controls",
          "model_name": "DescriptionStyleModel",
          "state": {
            "_view_name": "StyleView",
            "_model_name": "DescriptionStyleModel",
            "description_width": "",
            "_view_module": "@jupyter-widgets/base",
            "_model_module_version": "1.5.0",
            "_view_count": null,
            "_view_module_version": "1.2.0",
            "_model_module": "@jupyter-widgets/controls"
          }
        },
        "33aa8c4380834e1dbc06db7a4e8b42d2": {
          "model_module": "@jupyter-widgets/base",
          "model_name": "LayoutModel",
          "state": {
            "_view_name": "LayoutView",
            "grid_template_rows": null,
            "right": null,
            "justify_content": null,
            "_view_module": "@jupyter-widgets/base",
            "overflow": null,
            "_model_module_version": "1.2.0",
            "_view_count": null,
            "flex_flow": null,
            "width": null,
            "min_width": null,
            "border": null,
            "align_items": null,
            "bottom": null,
            "_model_module": "@jupyter-widgets/base",
            "top": null,
            "grid_column": null,
            "overflow_y": null,
            "overflow_x": null,
            "grid_auto_flow": null,
            "grid_area": null,
            "grid_template_columns": null,
            "flex": null,
            "_model_name": "LayoutModel",
            "justify_items": null,
            "grid_row": null,
            "max_height": null,
            "align_content": null,
            "visibility": null,
            "align_self": null,
            "height": null,
            "min_height": null,
            "padding": null,
            "grid_auto_rows": null,
            "grid_gap": null,
            "max_width": null,
            "order": null,
            "_view_module_version": "1.2.0",
            "grid_template_areas": null,
            "object_position": null,
            "object_fit": null,
            "grid_auto_columns": null,
            "margin": null,
            "display": null,
            "left": null
          }
        },
        "cd4cd24f278147d192b4c2c53118fd64": {
          "model_module": "@jupyter-widgets/controls",
          "model_name": "HBoxModel",
          "state": {
            "_view_name": "HBoxView",
            "_dom_classes": [],
            "_model_name": "HBoxModel",
            "_view_module": "@jupyter-widgets/controls",
            "_model_module_version": "1.5.0",
            "_view_count": null,
            "_view_module_version": "1.5.0",
            "box_style": "",
            "layout": "IPY_MODEL_fcaba1d9796e4d678b134e213ef414da",
            "_model_module": "@jupyter-widgets/controls",
            "children": [
              "IPY_MODEL_33764fa723864a6daa0ab207358b735f",
              "IPY_MODEL_b92bfcf58b504ad6a119f20874b3a503"
            ]
          }
        },
        "fcaba1d9796e4d678b134e213ef414da": {
          "model_module": "@jupyter-widgets/base",
          "model_name": "LayoutModel",
          "state": {
            "_view_name": "LayoutView",
            "grid_template_rows": null,
            "right": null,
            "justify_content": null,
            "_view_module": "@jupyter-widgets/base",
            "overflow": null,
            "_model_module_version": "1.2.0",
            "_view_count": null,
            "flex_flow": null,
            "width": null,
            "min_width": null,
            "border": null,
            "align_items": null,
            "bottom": null,
            "_model_module": "@jupyter-widgets/base",
            "top": null,
            "grid_column": null,
            "overflow_y": null,
            "overflow_x": null,
            "grid_auto_flow": null,
            "grid_area": null,
            "grid_template_columns": null,
            "flex": null,
            "_model_name": "LayoutModel",
            "justify_items": null,
            "grid_row": null,
            "max_height": null,
            "align_content": null,
            "visibility": null,
            "align_self": null,
            "height": null,
            "min_height": null,
            "padding": null,
            "grid_auto_rows": null,
            "grid_gap": null,
            "max_width": null,
            "order": null,
            "_view_module_version": "1.2.0",
            "grid_template_areas": null,
            "object_position": null,
            "object_fit": null,
            "grid_auto_columns": null,
            "margin": null,
            "display": null,
            "left": null
          }
        },
        "33764fa723864a6daa0ab207358b735f": {
          "model_module": "@jupyter-widgets/controls",
          "model_name": "FloatProgressModel",
          "state": {
            "_view_name": "ProgressView",
            "style": "IPY_MODEL_8553db4725894160aaae5f0c35401025",
            "_dom_classes": [],
            "description": "100%",
            "_model_name": "FloatProgressModel",
            "bar_style": "success",
            "max": 5893,
            "_view_module": "@jupyter-widgets/controls",
            "_model_module_version": "1.5.0",
            "value": 5893,
            "_view_count": null,
            "_view_module_version": "1.5.0",
            "orientation": "horizontal",
            "min": 0,
            "description_tooltip": null,
            "_model_module": "@jupyter-widgets/controls",
            "layout": "IPY_MODEL_77b7222a759342c888264436d2ef0e3a"
          }
        },
        "b92bfcf58b504ad6a119f20874b3a503": {
          "model_module": "@jupyter-widgets/controls",
          "model_name": "HTMLModel",
          "state": {
            "_view_name": "HTMLView",
            "style": "IPY_MODEL_d3c443f4f44a4e07a17bb8e04d9ba4e3",
            "_dom_classes": [],
            "description": "",
            "_model_name": "HTMLModel",
            "placeholder": "​",
            "_view_module": "@jupyter-widgets/controls",
            "_model_module_version": "1.5.0",
            "value": " 5893/5893 [1:27:05&lt;00:00,  1.13it/s]",
            "_view_count": null,
            "_view_module_version": "1.5.0",
            "description_tooltip": null,
            "_model_module": "@jupyter-widgets/controls",
            "layout": "IPY_MODEL_8b566c7021214240850b6b9c59e1b8a6"
          }
        },
        "8553db4725894160aaae5f0c35401025": {
          "model_module": "@jupyter-widgets/controls",
          "model_name": "ProgressStyleModel",
          "state": {
            "_view_name": "StyleView",
            "_model_name": "ProgressStyleModel",
            "description_width": "initial",
            "_view_module": "@jupyter-widgets/base",
            "_model_module_version": "1.5.0",
            "_view_count": null,
            "_view_module_version": "1.2.0",
            "bar_color": null,
            "_model_module": "@jupyter-widgets/controls"
          }
        },
        "77b7222a759342c888264436d2ef0e3a": {
          "model_module": "@jupyter-widgets/base",
          "model_name": "LayoutModel",
          "state": {
            "_view_name": "LayoutView",
            "grid_template_rows": null,
            "right": null,
            "justify_content": null,
            "_view_module": "@jupyter-widgets/base",
            "overflow": null,
            "_model_module_version": "1.2.0",
            "_view_count": null,
            "flex_flow": null,
            "width": null,
            "min_width": null,
            "border": null,
            "align_items": null,
            "bottom": null,
            "_model_module": "@jupyter-widgets/base",
            "top": null,
            "grid_column": null,
            "overflow_y": null,
            "overflow_x": null,
            "grid_auto_flow": null,
            "grid_area": null,
            "grid_template_columns": null,
            "flex": null,
            "_model_name": "LayoutModel",
            "justify_items": null,
            "grid_row": null,
            "max_height": null,
            "align_content": null,
            "visibility": null,
            "align_self": null,
            "height": null,
            "min_height": null,
            "padding": null,
            "grid_auto_rows": null,
            "grid_gap": null,
            "max_width": null,
            "order": null,
            "_view_module_version": "1.2.0",
            "grid_template_areas": null,
            "object_position": null,
            "object_fit": null,
            "grid_auto_columns": null,
            "margin": null,
            "display": null,
            "left": null
          }
        },
        "d3c443f4f44a4e07a17bb8e04d9ba4e3": {
          "model_module": "@jupyter-widgets/controls",
          "model_name": "DescriptionStyleModel",
          "state": {
            "_view_name": "StyleView",
            "_model_name": "DescriptionStyleModel",
            "description_width": "",
            "_view_module": "@jupyter-widgets/base",
            "_model_module_version": "1.5.0",
            "_view_count": null,
            "_view_module_version": "1.2.0",
            "_model_module": "@jupyter-widgets/controls"
          }
        },
        "8b566c7021214240850b6b9c59e1b8a6": {
          "model_module": "@jupyter-widgets/base",
          "model_name": "LayoutModel",
          "state": {
            "_view_name": "LayoutView",
            "grid_template_rows": null,
            "right": null,
            "justify_content": null,
            "_view_module": "@jupyter-widgets/base",
            "overflow": null,
            "_model_module_version": "1.2.0",
            "_view_count": null,
            "flex_flow": null,
            "width": null,
            "min_width": null,
            "border": null,
            "align_items": null,
            "bottom": null,
            "_model_module": "@jupyter-widgets/base",
            "top": null,
            "grid_column": null,
            "overflow_y": null,
            "overflow_x": null,
            "grid_auto_flow": null,
            "grid_area": null,
            "grid_template_columns": null,
            "flex": null,
            "_model_name": "LayoutModel",
            "justify_items": null,
            "grid_row": null,
            "max_height": null,
            "align_content": null,
            "visibility": null,
            "align_self": null,
            "height": null,
            "min_height": null,
            "padding": null,
            "grid_auto_rows": null,
            "grid_gap": null,
            "max_width": null,
            "order": null,
            "_view_module_version": "1.2.0",
            "grid_template_areas": null,
            "object_position": null,
            "object_fit": null,
            "grid_auto_columns": null,
            "margin": null,
            "display": null,
            "left": null
          }
        },
        "c6a79b1882a8469cb629ad56cf1b5c0e": {
          "model_module": "@jupyter-widgets/controls",
          "model_name": "HBoxModel",
          "state": {
            "_view_name": "HBoxView",
            "_dom_classes": [],
            "_model_name": "HBoxModel",
            "_view_module": "@jupyter-widgets/controls",
            "_model_module_version": "1.5.0",
            "_view_count": null,
            "_view_module_version": "1.5.0",
            "box_style": "",
            "layout": "IPY_MODEL_841ec82bf5014865a0e133f1a815d980",
            "_model_module": "@jupyter-widgets/controls",
            "children": [
              "IPY_MODEL_e66cfd2e360f470e95daa86fa4e69fd0",
              "IPY_MODEL_fde0fe664ea74b65a1d00a9259652cfc"
            ]
          }
        },
        "841ec82bf5014865a0e133f1a815d980": {
          "model_module": "@jupyter-widgets/base",
          "model_name": "LayoutModel",
          "state": {
            "_view_name": "LayoutView",
            "grid_template_rows": null,
            "right": null,
            "justify_content": null,
            "_view_module": "@jupyter-widgets/base",
            "overflow": null,
            "_model_module_version": "1.2.0",
            "_view_count": null,
            "flex_flow": null,
            "width": null,
            "min_width": null,
            "border": null,
            "align_items": null,
            "bottom": null,
            "_model_module": "@jupyter-widgets/base",
            "top": null,
            "grid_column": null,
            "overflow_y": null,
            "overflow_x": null,
            "grid_auto_flow": null,
            "grid_area": null,
            "grid_template_columns": null,
            "flex": null,
            "_model_name": "LayoutModel",
            "justify_items": null,
            "grid_row": null,
            "max_height": null,
            "align_content": null,
            "visibility": null,
            "align_self": null,
            "height": null,
            "min_height": null,
            "padding": null,
            "grid_auto_rows": null,
            "grid_gap": null,
            "max_width": null,
            "order": null,
            "_view_module_version": "1.2.0",
            "grid_template_areas": null,
            "object_position": null,
            "object_fit": null,
            "grid_auto_columns": null,
            "margin": null,
            "display": null,
            "left": null
          }
        },
        "e66cfd2e360f470e95daa86fa4e69fd0": {
          "model_module": "@jupyter-widgets/controls",
          "model_name": "FloatProgressModel",
          "state": {
            "_view_name": "ProgressView",
            "style": "IPY_MODEL_00ec31d2cd5f45bfa0037da76488b7f8",
            "_dom_classes": [],
            "description": "100%",
            "_model_name": "FloatProgressModel",
            "bar_style": "success",
            "max": 5893,
            "_view_module": "@jupyter-widgets/controls",
            "_model_module_version": "1.5.0",
            "value": 5893,
            "_view_count": null,
            "_view_module_version": "1.5.0",
            "orientation": "horizontal",
            "min": 0,
            "description_tooltip": null,
            "_model_module": "@jupyter-widgets/controls",
            "layout": "IPY_MODEL_49060dd104104837a8c6fa68d14a695c"
          }
        },
        "fde0fe664ea74b65a1d00a9259652cfc": {
          "model_module": "@jupyter-widgets/controls",
          "model_name": "HTMLModel",
          "state": {
            "_view_name": "HTMLView",
            "style": "IPY_MODEL_1e07b58e59554f35bae3cda087b0b4e5",
            "_dom_classes": [],
            "description": "",
            "_model_name": "HTMLModel",
            "placeholder": "​",
            "_view_module": "@jupyter-widgets/controls",
            "_model_module_version": "1.5.0",
            "value": " 5893/5893 [00:29&lt;00:00, 197.24it/s]",
            "_view_count": null,
            "_view_module_version": "1.5.0",
            "description_tooltip": null,
            "_model_module": "@jupyter-widgets/controls",
            "layout": "IPY_MODEL_fc3b6bb531364675ac7435ba4115c415"
          }
        },
        "00ec31d2cd5f45bfa0037da76488b7f8": {
          "model_module": "@jupyter-widgets/controls",
          "model_name": "ProgressStyleModel",
          "state": {
            "_view_name": "StyleView",
            "_model_name": "ProgressStyleModel",
            "description_width": "initial",
            "_view_module": "@jupyter-widgets/base",
            "_model_module_version": "1.5.0",
            "_view_count": null,
            "_view_module_version": "1.2.0",
            "bar_color": null,
            "_model_module": "@jupyter-widgets/controls"
          }
        },
        "49060dd104104837a8c6fa68d14a695c": {
          "model_module": "@jupyter-widgets/base",
          "model_name": "LayoutModel",
          "state": {
            "_view_name": "LayoutView",
            "grid_template_rows": null,
            "right": null,
            "justify_content": null,
            "_view_module": "@jupyter-widgets/base",
            "overflow": null,
            "_model_module_version": "1.2.0",
            "_view_count": null,
            "flex_flow": null,
            "width": null,
            "min_width": null,
            "border": null,
            "align_items": null,
            "bottom": null,
            "_model_module": "@jupyter-widgets/base",
            "top": null,
            "grid_column": null,
            "overflow_y": null,
            "overflow_x": null,
            "grid_auto_flow": null,
            "grid_area": null,
            "grid_template_columns": null,
            "flex": null,
            "_model_name": "LayoutModel",
            "justify_items": null,
            "grid_row": null,
            "max_height": null,
            "align_content": null,
            "visibility": null,
            "align_self": null,
            "height": null,
            "min_height": null,
            "padding": null,
            "grid_auto_rows": null,
            "grid_gap": null,
            "max_width": null,
            "order": null,
            "_view_module_version": "1.2.0",
            "grid_template_areas": null,
            "object_position": null,
            "object_fit": null,
            "grid_auto_columns": null,
            "margin": null,
            "display": null,
            "left": null
          }
        },
        "1e07b58e59554f35bae3cda087b0b4e5": {
          "model_module": "@jupyter-widgets/controls",
          "model_name": "DescriptionStyleModel",
          "state": {
            "_view_name": "StyleView",
            "_model_name": "DescriptionStyleModel",
            "description_width": "",
            "_view_module": "@jupyter-widgets/base",
            "_model_module_version": "1.5.0",
            "_view_count": null,
            "_view_module_version": "1.2.0",
            "_model_module": "@jupyter-widgets/controls"
          }
        },
        "fc3b6bb531364675ac7435ba4115c415": {
          "model_module": "@jupyter-widgets/base",
          "model_name": "LayoutModel",
          "state": {
            "_view_name": "LayoutView",
            "grid_template_rows": null,
            "right": null,
            "justify_content": null,
            "_view_module": "@jupyter-widgets/base",
            "overflow": null,
            "_model_module_version": "1.2.0",
            "_view_count": null,
            "flex_flow": null,
            "width": null,
            "min_width": null,
            "border": null,
            "align_items": null,
            "bottom": null,
            "_model_module": "@jupyter-widgets/base",
            "top": null,
            "grid_column": null,
            "overflow_y": null,
            "overflow_x": null,
            "grid_auto_flow": null,
            "grid_area": null,
            "grid_template_columns": null,
            "flex": null,
            "_model_name": "LayoutModel",
            "justify_items": null,
            "grid_row": null,
            "max_height": null,
            "align_content": null,
            "visibility": null,
            "align_self": null,
            "height": null,
            "min_height": null,
            "padding": null,
            "grid_auto_rows": null,
            "grid_gap": null,
            "max_width": null,
            "order": null,
            "_view_module_version": "1.2.0",
            "grid_template_areas": null,
            "object_position": null,
            "object_fit": null,
            "grid_auto_columns": null,
            "margin": null,
            "display": null,
            "left": null
          }
        }
      }
    }
  },
  "cells": [
    {
      "cell_type": "markdown",
      "metadata": {
        "id": "aRd13u1figu8"
      },
      "source": [
        "[Source](https://www.tensorflow.org/tutorials/text/nmt_with_attention)\r\n",
        "\r\n"
      ]
    },
    {
      "cell_type": "markdown",
      "metadata": {
        "id": "_WDAR-xB7_7x"
      },
      "source": [
        "# Chargez les librairies"
      ]
    },
    {
      "cell_type": "code",
      "metadata": {
        "id": "x3Rd_XnKSqyC",
        "colab": {
          "base_uri": "https://localhost:8080/"
        },
        "outputId": "ac4e8042-62a4-4157-878d-6e9691a4b7e4"
      },
      "source": [
        "import tensorflow as tf\n",
        "\n",
        "import matplotlib.pyplot as plt\n",
        "import matplotlib.ticker as ticker\n",
        "from sklearn.model_selection import train_test_split\n",
        "\n",
        "import unicodedata\n",
        "import re\n",
        "import numpy as np\n",
        "import os\n",
        "import io\n",
        "import time\n",
        "import pandas as pd\n",
        "\n",
        "from tqdm.notebook import tqdm\n",
        "tqdm.pandas()"
      ],
      "execution_count": null,
      "outputs": [
        {
          "output_type": "stream",
          "text": [
            "/usr/local/lib/python3.7/dist-packages/tqdm/std.py:658: FutureWarning: The Panel class is removed from pandas. Accessing it from the top-level namespace will also be removed in the next version\n",
            "  from pandas import Panel\n"
          ],
          "name": "stderr"
        }
      ]
    },
    {
      "cell_type": "code",
      "metadata": {
        "colab": {
          "base_uri": "https://localhost:8080/"
        },
        "id": "aM5d1IEt8ORN",
        "outputId": "aedbcc20-2fea-4b3e-e972-de15f442cebf"
      },
      "source": [
        "try:\r\n",
        "  !pip install sacrebleu\r\n",
        "except:\r\n",
        "  import sacrebleu"
      ],
      "execution_count": null,
      "outputs": [
        {
          "output_type": "stream",
          "text": [
            "Collecting sacrebleu\n",
            "\u001b[?25l  Downloading https://files.pythonhosted.org/packages/7e/57/0c7ca4e31a126189dab99c19951910bd081dea5bbd25f24b77107750eae7/sacrebleu-1.5.1-py3-none-any.whl (54kB)\n",
            "\r\u001b[K     |██████                          | 10kB 16.3MB/s eta 0:00:01\r\u001b[K     |████████████                    | 20kB 11.0MB/s eta 0:00:01\r\u001b[K     |██████████████████              | 30kB 8.0MB/s eta 0:00:01\r\u001b[K     |████████████████████████        | 40kB 7.0MB/s eta 0:00:01\r\u001b[K     |██████████████████████████████  | 51kB 4.2MB/s eta 0:00:01\r\u001b[K     |████████████████████████████████| 61kB 2.8MB/s \n",
            "\u001b[?25hCollecting portalocker==2.0.0\n",
            "  Downloading https://files.pythonhosted.org/packages/89/a6/3814b7107e0788040870e8825eebf214d72166adf656ba7d4bf14759a06a/portalocker-2.0.0-py2.py3-none-any.whl\n",
            "Installing collected packages: portalocker, sacrebleu\n",
            "Successfully installed portalocker-2.0.0 sacrebleu-1.5.1\n"
          ],
          "name": "stdout"
        }
      ]
    },
    {
      "cell_type": "markdown",
      "metadata": {
        "id": "t5RexiBLjGz8"
      },
      "source": [
        "# Chargez et préparez le jeu de données"
      ]
    },
    {
      "cell_type": "markdown",
      "metadata": {
        "id": "u9T2cgtUjb-d"
      },
      "source": [
        "Après avoir charger l'ensemble des données, voici les étapes que nous allons suivre pour préparer les données:\r\n",
        "\r\n",
        " - Ajoutez un jeton de début et de fin à chaque phrase.\r\n",
        " - Nettoyez les phrases en supprimant les caractères spéciaux.\r\n",
        " - Créez un index de mots et un index de mots inversé (mappage de dictionnaires de mot → id et id → mot).\r\n",
        " - Remplissez chaque phrase à une longueur maximale."
      ]
    },
    {
      "cell_type": "code",
      "metadata": {
        "colab": {
          "base_uri": "https://localhost:8080/"
        },
        "id": "rbUWdx7lURj7",
        "outputId": "44a1edc3-4525-4881-e338-bdbfc0237cde"
      },
      "source": [
        "from google.colab import drive\n",
        "drive.mount('/gdrive')"
      ],
      "execution_count": null,
      "outputs": [
        {
          "output_type": "stream",
          "text": [
            "Mounted at /gdrive\n"
          ],
          "name": "stdout"
        }
      ]
    },
    {
      "cell_type": "code",
      "metadata": {
        "id": "eYMJ0th9Uax4"
      },
      "source": [
        "dossier = '/gdrive/MyDrive/Zindi/AI4D-TakwimuLab-Machine-Translation-Challenge/'"
      ],
      "execution_count": null,
      "outputs": []
    },
    {
      "cell_type": "code",
      "metadata": {
        "id": "t9-h4obTWYkr"
      },
      "source": [
        "train = pd.read_csv(dossier + '/Data/Train.csv')\n",
        "test = pd.read_csv(dossier + '/Data/Test.csv')\n",
        "sub = pd.read_csv(dossier + '/Data/SampleSubmission.csv')"
      ],
      "execution_count": null,
      "outputs": []
    },
    {
      "cell_type": "code",
      "metadata": {
        "colab": {
          "base_uri": "https://localhost:8080/",
          "height": 198
        },
        "id": "nNS2NnUWWgkB",
        "outputId": "9aa4a7d0-fd28-4c7c-e511-828550ba5bca"
      },
      "source": [
        "train.head()"
      ],
      "execution_count": null,
      "outputs": [
        {
          "output_type": "execute_result",
          "data": {
            "text/html": [
              "<div>\n",
              "<style scoped>\n",
              "    .dataframe tbody tr th:only-of-type {\n",
              "        vertical-align: middle;\n",
              "    }\n",
              "\n",
              "    .dataframe tbody tr th {\n",
              "        vertical-align: top;\n",
              "    }\n",
              "\n",
              "    .dataframe thead th {\n",
              "        text-align: right;\n",
              "    }\n",
              "</style>\n",
              "<table border=\"1\" class=\"dataframe\">\n",
              "  <thead>\n",
              "    <tr style=\"text-align: right;\">\n",
              "      <th></th>\n",
              "      <th>ID</th>\n",
              "      <th>French</th>\n",
              "      <th>Target_Language</th>\n",
              "      <th>Target</th>\n",
              "    </tr>\n",
              "  </thead>\n",
              "  <tbody>\n",
              "    <tr>\n",
              "      <th>0</th>\n",
              "      <td>ID_AADNDxdl</td>\n",
              "      <td>Mon père</td>\n",
              "      <td>Fon</td>\n",
              "      <td>Tɔ ce</td>\n",
              "    </tr>\n",
              "    <tr>\n",
              "      <th>1</th>\n",
              "      <td>ID_AAFQhmDr</td>\n",
              "      <td>Mettez-vous en rang.</td>\n",
              "      <td>Fon</td>\n",
              "      <td>Mi tò miɖéé</td>\n",
              "    </tr>\n",
              "    <tr>\n",
              "      <th>2</th>\n",
              "      <td>ID_AAHVDMdq</td>\n",
              "      <td>Sénégal, Côte d'Ivoire, Guinée, Ghana, on déco...</td>\n",
              "      <td>Ewe</td>\n",
              "      <td>Sénégal, Côte d'Ivoire, Guinée, Ghana, siwo ƒe...</td>\n",
              "    </tr>\n",
              "    <tr>\n",
              "      <th>3</th>\n",
              "      <td>ID_AAJfVHEH</td>\n",
              "      <td>Son doigt lui fait mal.</td>\n",
              "      <td>Fon</td>\n",
              "      <td>Alɔvi tɔn ɖo vivɛ wɛ</td>\n",
              "    </tr>\n",
              "    <tr>\n",
              "      <th>4</th>\n",
              "      <td>ID_AAOJuhzN</td>\n",
              "      <td>La pluie a commencé.</td>\n",
              "      <td>Fon</td>\n",
              "      <td>Jì bɛ́</td>\n",
              "    </tr>\n",
              "  </tbody>\n",
              "</table>\n",
              "</div>"
            ],
            "text/plain": [
              "            ID  ...                                             Target\n",
              "0  ID_AADNDxdl  ...                                              Tɔ ce\n",
              "1  ID_AAFQhmDr  ...                                        Mi tò miɖéé\n",
              "2  ID_AAHVDMdq  ...  Sénégal, Côte d'Ivoire, Guinée, Ghana, siwo ƒe...\n",
              "3  ID_AAJfVHEH  ...                               Alɔvi tɔn ɖo vivɛ wɛ\n",
              "4  ID_AAOJuhzN  ...                                             Jì bɛ́\n",
              "\n",
              "[5 rows x 4 columns]"
            ]
          },
          "metadata": {
            "tags": []
          },
          "execution_count": 7
        }
      ]
    },
    {
      "cell_type": "code",
      "metadata": {
        "colab": {
          "base_uri": "https://localhost:8080/",
          "height": 198
        },
        "id": "TyeYcQk7Wh93",
        "outputId": "353065f9-e005-4bf2-9ddb-df0b021844b0"
      },
      "source": [
        "test.head()"
      ],
      "execution_count": null,
      "outputs": [
        {
          "output_type": "execute_result",
          "data": {
            "text/html": [
              "<div>\n",
              "<style scoped>\n",
              "    .dataframe tbody tr th:only-of-type {\n",
              "        vertical-align: middle;\n",
              "    }\n",
              "\n",
              "    .dataframe tbody tr th {\n",
              "        vertical-align: top;\n",
              "    }\n",
              "\n",
              "    .dataframe thead th {\n",
              "        text-align: right;\n",
              "    }\n",
              "</style>\n",
              "<table border=\"1\" class=\"dataframe\">\n",
              "  <thead>\n",
              "    <tr style=\"text-align: right;\">\n",
              "      <th></th>\n",
              "      <th>ID</th>\n",
              "      <th>French</th>\n",
              "      <th>Target_Language</th>\n",
              "    </tr>\n",
              "  </thead>\n",
              "  <tbody>\n",
              "    <tr>\n",
              "      <th>0</th>\n",
              "      <td>ID_AAAAhgRX</td>\n",
              "      <td>Très fière d’elle</td>\n",
              "      <td>Ewe</td>\n",
              "    </tr>\n",
              "    <tr>\n",
              "      <th>1</th>\n",
              "      <td>ID_AAGuzGzi</td>\n",
              "      <td>Tous ces grands artistes viendront au Benin po...</td>\n",
              "      <td>Fon</td>\n",
              "    </tr>\n",
              "    <tr>\n",
              "      <th>2</th>\n",
              "      <td>ID_AAuiTPkQ</td>\n",
              "      <td>Ce programme va travailler à améliorer les con...</td>\n",
              "      <td>Fon</td>\n",
              "    </tr>\n",
              "    <tr>\n",
              "      <th>3</th>\n",
              "      <td>ID_ACYgGXTq</td>\n",
              "      <td>Quels sont les questions récurrentes de ceux ...</td>\n",
              "      <td>Fon</td>\n",
              "    </tr>\n",
              "    <tr>\n",
              "      <th>4</th>\n",
              "      <td>ID_AChdWHyF</td>\n",
              "      <td>Grosse bagnolle</td>\n",
              "      <td>Ewe</td>\n",
              "    </tr>\n",
              "  </tbody>\n",
              "</table>\n",
              "</div>"
            ],
            "text/plain": [
              "            ID  ... Target_Language\n",
              "0  ID_AAAAhgRX  ...             Ewe\n",
              "1  ID_AAGuzGzi  ...             Fon\n",
              "2  ID_AAuiTPkQ  ...             Fon\n",
              "3  ID_ACYgGXTq  ...             Fon\n",
              "4  ID_AChdWHyF  ...             Ewe\n",
              "\n",
              "[5 rows x 3 columns]"
            ]
          },
          "metadata": {
            "tags": []
          },
          "execution_count": 8
        }
      ]
    },
    {
      "cell_type": "code",
      "metadata": {
        "colab": {
          "base_uri": "https://localhost:8080/",
          "height": 198
        },
        "id": "vF3S0RYNYGRH",
        "outputId": "e84f9240-c78f-432a-c404-78c5a7f678a0"
      },
      "source": [
        "sub.head()"
      ],
      "execution_count": null,
      "outputs": [
        {
          "output_type": "execute_result",
          "data": {
            "text/html": [
              "<div>\n",
              "<style scoped>\n",
              "    .dataframe tbody tr th:only-of-type {\n",
              "        vertical-align: middle;\n",
              "    }\n",
              "\n",
              "    .dataframe tbody tr th {\n",
              "        vertical-align: top;\n",
              "    }\n",
              "\n",
              "    .dataframe thead th {\n",
              "        text-align: right;\n",
              "    }\n",
              "</style>\n",
              "<table border=\"1\" class=\"dataframe\">\n",
              "  <thead>\n",
              "    <tr style=\"text-align: right;\">\n",
              "      <th></th>\n",
              "      <th>ID</th>\n",
              "      <th>Target</th>\n",
              "    </tr>\n",
              "  </thead>\n",
              "  <tbody>\n",
              "    <tr>\n",
              "      <th>0</th>\n",
              "      <td>ID_nNUszvhL</td>\n",
              "      <td>0</td>\n",
              "    </tr>\n",
              "    <tr>\n",
              "      <th>1</th>\n",
              "      <td>ID_HbooJGwk</td>\n",
              "      <td>0</td>\n",
              "    </tr>\n",
              "    <tr>\n",
              "      <th>2</th>\n",
              "      <td>ID_WMxavljL</td>\n",
              "      <td>0</td>\n",
              "    </tr>\n",
              "    <tr>\n",
              "      <th>3</th>\n",
              "      <td>ID_pldWaUHs</td>\n",
              "      <td>0</td>\n",
              "    </tr>\n",
              "    <tr>\n",
              "      <th>4</th>\n",
              "      <td>ID_gjCwdavy</td>\n",
              "      <td>0</td>\n",
              "    </tr>\n",
              "  </tbody>\n",
              "</table>\n",
              "</div>"
            ],
            "text/plain": [
              "            ID  Target\n",
              "0  ID_nNUszvhL       0\n",
              "1  ID_HbooJGwk       0\n",
              "2  ID_WMxavljL       0\n",
              "3  ID_pldWaUHs       0\n",
              "4  ID_gjCwdavy       0"
            ]
          },
          "metadata": {
            "tags": []
          },
          "execution_count": 9
        }
      ]
    },
    {
      "cell_type": "code",
      "metadata": {
        "colab": {
          "base_uri": "https://localhost:8080/"
        },
        "id": "zf7ILbT0Ycwn",
        "outputId": "36ed58df-22ea-4658-822d-f7f2457d3474"
      },
      "source": [
        "len(test), len(sub)"
      ],
      "execution_count": null,
      "outputs": [
        {
          "output_type": "execute_result",
          "data": {
            "text/plain": [
              "(5893, 5893)"
            ]
          },
          "metadata": {
            "tags": []
          },
          "execution_count": 10
        }
      ]
    },
    {
      "cell_type": "code",
      "metadata": {
        "colab": {
          "base_uri": "https://localhost:8080/"
        },
        "id": "7RPd3yUjYiLn",
        "outputId": "d949bc13-4438-4c07-a4ab-b42fe4da4a40"
      },
      "source": [
        "len(train)"
      ],
      "execution_count": null,
      "outputs": [
        {
          "output_type": "execute_result",
          "data": {
            "text/plain": [
              "75487"
            ]
          },
          "metadata": {
            "tags": []
          },
          "execution_count": 11
        }
      ]
    },
    {
      "cell_type": "code",
      "metadata": {
        "id": "IAO8sjg_YjsI"
      },
      "source": [
        "fon_train = train[train.Target_Language == \"Fon\"].reset_index(drop=True)\n",
        "ewe_train = train[train.Target_Language == \"Ewe\"].reset_index(drop=True)"
      ],
      "execution_count": null,
      "outputs": []
    },
    {
      "cell_type": "code",
      "metadata": {
        "colab": {
          "base_uri": "https://localhost:8080/",
          "height": 408
        },
        "id": "zeYeZ53t2HQG",
        "outputId": "8f0ec941-f499-4e5f-8293-f2feb8fb804d"
      },
      "source": [
        "fon_train"
      ],
      "execution_count": null,
      "outputs": [
        {
          "output_type": "execute_result",
          "data": {
            "text/html": [
              "<div>\n",
              "<style scoped>\n",
              "    .dataframe tbody tr th:only-of-type {\n",
              "        vertical-align: middle;\n",
              "    }\n",
              "\n",
              "    .dataframe tbody tr th {\n",
              "        vertical-align: top;\n",
              "    }\n",
              "\n",
              "    .dataframe thead th {\n",
              "        text-align: right;\n",
              "    }\n",
              "</style>\n",
              "<table border=\"1\" class=\"dataframe\">\n",
              "  <thead>\n",
              "    <tr style=\"text-align: right;\">\n",
              "      <th></th>\n",
              "      <th>ID</th>\n",
              "      <th>French</th>\n",
              "      <th>Target_Language</th>\n",
              "      <th>Target</th>\n",
              "    </tr>\n",
              "  </thead>\n",
              "  <tbody>\n",
              "    <tr>\n",
              "      <th>0</th>\n",
              "      <td>ID_AADNDxdl</td>\n",
              "      <td>Mon père</td>\n",
              "      <td>Fon</td>\n",
              "      <td>Tɔ ce</td>\n",
              "    </tr>\n",
              "    <tr>\n",
              "      <th>1</th>\n",
              "      <td>ID_AAFQhmDr</td>\n",
              "      <td>Mettez-vous en rang.</td>\n",
              "      <td>Fon</td>\n",
              "      <td>Mi tò miɖéé</td>\n",
              "    </tr>\n",
              "    <tr>\n",
              "      <th>2</th>\n",
              "      <td>ID_AAJfVHEH</td>\n",
              "      <td>Son doigt lui fait mal.</td>\n",
              "      <td>Fon</td>\n",
              "      <td>Alɔvi tɔn ɖo vivɛ wɛ</td>\n",
              "    </tr>\n",
              "    <tr>\n",
              "      <th>3</th>\n",
              "      <td>ID_AAOJuhzN</td>\n",
              "      <td>La pluie a commencé.</td>\n",
              "      <td>Fon</td>\n",
              "      <td>Jì bɛ́</td>\n",
              "    </tr>\n",
              "    <tr>\n",
              "      <th>4</th>\n",
              "      <td>ID_AAOZhyDe</td>\n",
              "      <td>Les garçons et les filles sont au cours élémen...</td>\n",
              "      <td>Fon</td>\n",
              "      <td>Nyɔnu lε kpo sunnu lε kpo ɖo wemaxomε ayi jε t...</td>\n",
              "    </tr>\n",
              "    <tr>\n",
              "      <th>...</th>\n",
              "      <td>...</td>\n",
              "      <td>...</td>\n",
              "      <td>...</td>\n",
              "      <td>...</td>\n",
              "    </tr>\n",
              "    <tr>\n",
              "      <th>53129</th>\n",
              "      <td>ID_zzsOfbtD</td>\n",
              "      <td>Reconduis-le.</td>\n",
              "      <td>Fon</td>\n",
              "      <td>Kpl’ɛ́ yì</td>\n",
              "    </tr>\n",
              "    <tr>\n",
              "      <th>53130</th>\n",
              "      <td>ID_zztJChgi</td>\n",
              "      <td>Le vent pousse le nuage</td>\n",
              "      <td>Fon</td>\n",
              "      <td>Jɔhɔn ɔ ɖo akpɔkpɔ sisε wε.</td>\n",
              "    </tr>\n",
              "    <tr>\n",
              "      <th>53131</th>\n",
              "      <td>ID_zztqxmJe</td>\n",
              "      <td>Si mon mari conduit, c’est que ce n’est pas lo...</td>\n",
              "      <td>Fon</td>\n",
              "      <td>Nu asu ce kun hun ɔ, hun e lin a nε</td>\n",
              "    </tr>\n",
              "    <tr>\n",
              "      <th>53132</th>\n",
              "      <td>ID_zzxVgzgw</td>\n",
              "      <td>Cette année, je vais épouser celle-là.</td>\n",
              "      <td>Fon</td>\n",
              "      <td>Xwe elɔ mɛ, un na wli alɔ x’ɛ</td>\n",
              "    </tr>\n",
              "    <tr>\n",
              "      <th>53133</th>\n",
              "      <td>ID_zzzEhSHN</td>\n",
              "      <td>Dans une casserole, je la fais fondre dans un ...</td>\n",
              "      <td>Fon</td>\n",
              "      <td>Ɖo ganzɛn kpɛvi mɛ ɔ, un hɛn sinsin ɖo sin zoz...</td>\n",
              "    </tr>\n",
              "  </tbody>\n",
              "</table>\n",
              "<p>53134 rows × 4 columns</p>\n",
              "</div>"
            ],
            "text/plain": [
              "                ID  ...                                             Target\n",
              "0      ID_AADNDxdl  ...                                              Tɔ ce\n",
              "1      ID_AAFQhmDr  ...                                        Mi tò miɖéé\n",
              "2      ID_AAJfVHEH  ...                               Alɔvi tɔn ɖo vivɛ wɛ\n",
              "3      ID_AAOJuhzN  ...                                             Jì bɛ́\n",
              "4      ID_AAOZhyDe  ...  Nyɔnu lε kpo sunnu lε kpo ɖo wemaxomε ayi jε t...\n",
              "...            ...  ...                                                ...\n",
              "53129  ID_zzsOfbtD  ...                                          Kpl’ɛ́ yì\n",
              "53130  ID_zztJChgi  ...                        Jɔhɔn ɔ ɖo akpɔkpɔ sisε wε.\n",
              "53131  ID_zztqxmJe  ...                Nu asu ce kun hun ɔ, hun e lin a nε\n",
              "53132  ID_zzxVgzgw  ...                      Xwe elɔ mɛ, un na wli alɔ x’ɛ\n",
              "53133  ID_zzzEhSHN  ...  Ɖo ganzɛn kpɛvi mɛ ɔ, un hɛn sinsin ɖo sin zoz...\n",
              "\n",
              "[53134 rows x 4 columns]"
            ]
          },
          "metadata": {
            "tags": []
          },
          "execution_count": 13
        }
      ]
    },
    {
      "cell_type": "code",
      "metadata": {
        "id": "9OOm3HZPZQLD"
      },
      "source": [
        "fon_test = test[test.Target_Language == \"Fon\"].reset_index(drop=True)\n",
        "ewe_test = test[test.Target_Language == \"Ewe\"].reset_index(drop=True)"
      ],
      "execution_count": null,
      "outputs": []
    },
    {
      "cell_type": "code",
      "metadata": {
        "colab": {
          "base_uri": "https://localhost:8080/"
        },
        "id": "AB0QboChZKBe",
        "outputId": "f11f2d90-8790-4c5d-a41e-f75b14233ce4"
      },
      "source": [
        "len(fon_train), len(ewe_train)"
      ],
      "execution_count": null,
      "outputs": [
        {
          "output_type": "execute_result",
          "data": {
            "text/plain": [
              "(53134, 22353)"
            ]
          },
          "metadata": {
            "tags": []
          },
          "execution_count": 15
        }
      ]
    },
    {
      "cell_type": "code",
      "metadata": {
        "colab": {
          "base_uri": "https://localhost:8080/"
        },
        "id": "GATEiXVkZNSH",
        "outputId": "7fdcda01-a2ed-4cc6-d429-b56f7d9202df"
      },
      "source": [
        "len(fon_test), len(ewe_test)"
      ],
      "execution_count": null,
      "outputs": [
        {
          "output_type": "execute_result",
          "data": {
            "text/plain": [
              "(2929, 2964)"
            ]
          },
          "metadata": {
            "tags": []
          },
          "execution_count": 16
        }
      ]
    },
    {
      "cell_type": "code",
      "metadata": {
        "id": "Wmh_p3NgUsFh"
      },
      "source": [
        "# Converts the unicode file to ascii\n",
        "#def unicode_to_ascii(s):\n",
        "#  return ''.join(c for c in unicodedata.normalize('NFD', s)\n",
        "#      if unicodedata.category(c) != 'Mn')\n",
        "\n",
        "def preprocess_sentence(w):\n",
        "  #w = unicode_to_ascii(w.lower().strip())\n",
        "  w = w.lower().strip()\n",
        "\n",
        "  # creating a space between a word and the punctuation following it\n",
        "  # eg: \"he is a boy.\" => \"he is a boy .\"\n",
        "  # Reference:- https://stackoverflow.com/questions/3645931/python-padding-punctuation-with-white-spaces-keeping-punctuation\n",
        "  w = re.sub(r\"([?.!,¿])\", r\" \\1 \", w)\n",
        "  w = re.sub(r'[\" \"]+', \" \", w)\n",
        "\n",
        "  # replacing everything with space except (a-z, A-Z, \".\", \"?\", \"!\", \",\")\n",
        "  # w = re.sub(r\"[^a-zA-Z?.!,¿]+\", \" \", w)\n",
        "\n",
        "  w = w.strip()\n",
        "\n",
        "  # adding a start and an end token to the sentence\n",
        "  # so that the model know when to start and stop predicting.\n",
        "  w = '<start> ' + w + ' <end>'\n",
        "  return w"
      ],
      "execution_count": null,
      "outputs": []
    },
    {
      "cell_type": "code",
      "metadata": {
        "colab": {
          "base_uri": "https://localhost:8080/",
          "height": 34
        },
        "id": "EvFjwZFrZgaW",
        "outputId": "a6b53513-cf02-4652-9c9f-a249715258d8"
      },
      "source": [
        "preprocess_sentence(\"Ɖo gan tantɔn kpo cεju afɔton\")"
      ],
      "execution_count": null,
      "outputs": [
        {
          "output_type": "execute_result",
          "data": {
            "application/vnd.google.colaboratory.intrinsic+json": {
              "type": "string"
            },
            "text/plain": [
              "'<start> ɖo gan tantɔn kpo cεju afɔton <end>'"
            ]
          },
          "metadata": {
            "tags": []
          },
          "execution_count": 18
        }
      ]
    },
    {
      "cell_type": "code",
      "metadata": {
        "id": "6erFA_PNb5AK"
      },
      "source": [
        "def create_dataset(df, langue):\n",
        "\n",
        "  filtered_df = df[df.Target_Language == langue].copy()\n",
        "  filtered_df['French'] = filtered_df['French'].apply(preprocess_sentence)\n",
        "  filtered_df['Target'] = filtered_df['Target'].apply(preprocess_sentence)\n",
        "\n",
        "  fr = list(filtered_df['French'])\n",
        "  targ = list(filtered_df['Target'])\n",
        "\n",
        "  return targ, fr"
      ],
      "execution_count": null,
      "outputs": []
    },
    {
      "cell_type": "code",
      "metadata": {
        "colab": {
          "base_uri": "https://localhost:8080/"
        },
        "id": "dqAH1bX5cF2y",
        "outputId": "ff91f2de-b98b-4355-dbec-bae4b956c654"
      },
      "source": [
        "fon, fr = create_dataset(train, \"Fon\")\n",
        "print(fr[6])\n",
        "print(fon[6])"
      ],
      "execution_count": null,
      "outputs": [
        {
          "output_type": "stream",
          "text": [
            "<start> il l’a fait , bien sûr . <end>\n",
            "<start> e bló hŭn <end>\n"
          ],
          "name": "stdout"
        }
      ]
    },
    {
      "cell_type": "code",
      "metadata": {
        "colab": {
          "base_uri": "https://localhost:8080/"
        },
        "id": "zKWgqHUiPkpg",
        "outputId": "113caa3c-43a6-4b5d-d795-55c2f5764e95"
      },
      "source": [
        "ewe, fr = create_dataset(train, \"Ewe\")\r\n",
        "print(fr[5])\r\n",
        "print(ewe[5])"
      ],
      "execution_count": null,
      "outputs": [
        {
          "output_type": "stream",
          "text": [
            "<start> on essaie donc de deviner ce qui se passe à  partir des rares mots lâchés en français , et on en rigole comme des folles , <end>\n",
            "<start> miedze agbagba susu nusi gblɔm wole xe koanu ɖe frãsɛ ɖekaɖeka siwo miese la dzi <end>\n"
          ],
          "name": "stdout"
        }
      ]
    },
    {
      "cell_type": "code",
      "metadata": {
        "id": "CXHqUxKraeoZ"
      },
      "source": [
        "def tokenize(lang):\n",
        "  lang_tokenizer = tf.keras.preprocessing.text.Tokenizer(\n",
        "      filters='', oov_token = 'OOV')\n",
        "  lang_tokenizer.fit_on_texts(lang)\n",
        "\n",
        "  tensor = lang_tokenizer.texts_to_sequences(lang)\n",
        "\n",
        "  tensor = tf.keras.preprocessing.sequence.pad_sequences(tensor,\n",
        "                                                         padding='post')\n",
        "\n",
        "  return tensor, lang_tokenizer"
      ],
      "execution_count": null,
      "outputs": []
    },
    {
      "cell_type": "code",
      "metadata": {
        "id": "CXMj3rJ1brQD"
      },
      "source": [
        "def load_dataset(df, langue):\n",
        "  # creating cleaned input, output pairs\n",
        "  targ_lang, inp_lang = create_dataset(df, langue)\n",
        "\n",
        "  input_tensor, inp_lang_tokenizer = tokenize(inp_lang)\n",
        "  target_tensor, targ_lang_tokenizer = tokenize(targ_lang)\n",
        "\n",
        "  return input_tensor, target_tensor, inp_lang_tokenizer, targ_lang_tokenizer"
      ],
      "execution_count": null,
      "outputs": []
    },
    {
      "cell_type": "code",
      "metadata": {
        "colab": {
          "base_uri": "https://localhost:8080/"
        },
        "id": "GWjyanL_bdmy",
        "outputId": "c23456f1-be13-420b-f673-2dbd1cc172fb"
      },
      "source": [
        "train.shape"
      ],
      "execution_count": null,
      "outputs": [
        {
          "output_type": "execute_result",
          "data": {
            "text/plain": [
              "(75487, 4)"
            ]
          },
          "metadata": {
            "tags": []
          },
          "execution_count": 65
        }
      ]
    },
    {
      "cell_type": "code",
      "metadata": {
        "colab": {
          "base_uri": "https://localhost:8080/"
        },
        "id": "17Zz90KJKYtr",
        "outputId": "410c9b67-a1a1-448e-f9cd-f884ac3af6cb"
      },
      "source": [
        "# Try experimenting with the size of that dataset\r\n",
        "\r\n",
        "train_exp = train.sample(frac=.5, random_state=92).copy()\r\n",
        "train_exp.Target_Language.value_counts()"
      ],
      "execution_count": null,
      "outputs": [
        {
          "output_type": "execute_result",
          "data": {
            "text/plain": [
              "Fon    26630\n",
              "Ewe    11114\n",
              "Name: Target_Language, dtype: int64"
            ]
          },
          "metadata": {
            "tags": []
          },
          "execution_count": 24
        }
      ]
    },
    {
      "cell_type": "code",
      "metadata": {
        "id": "eC5tqwO0esdw"
      },
      "source": [
        "input_tensor, target_tensor, inp_lang, targ_lang = load_dataset(train_exp, 'Fon')\n",
        "\n",
        "# Calculate max_length of the target tensors\n",
        "max_length_targ, max_length_inp = target_tensor.shape[1], input_tensor.shape[1]"
      ],
      "execution_count": null,
      "outputs": []
    },
    {
      "cell_type": "code",
      "metadata": {
        "colab": {
          "base_uri": "https://localhost:8080/"
        },
        "id": "dre3At2HfMK1",
        "outputId": "9366fe43-567f-4b02-828c-9961198e615d"
      },
      "source": [
        "max_length_inp, max_length_targ"
      ],
      "execution_count": null,
      "outputs": [
        {
          "output_type": "execute_result",
          "data": {
            "text/plain": [
              "(56, 71)"
            ]
          },
          "metadata": {
            "tags": []
          },
          "execution_count": 26
        }
      ]
    },
    {
      "cell_type": "code",
      "metadata": {
        "colab": {
          "base_uri": "https://localhost:8080/"
        },
        "id": "wc2Ir_YZfV6C",
        "outputId": "212f32ba-3b3f-4b30-b759-85e1a34956c8"
      },
      "source": [
        "# Creating training and validation sets using an 80-20 split\n",
        "input_tensor_train, input_tensor_val, target_tensor_train, target_tensor_val = train_test_split(input_tensor, target_tensor, test_size=0.2)\n",
        "\n",
        "# Show length\n",
        "print(len(input_tensor_train), len(target_tensor_train), len(input_tensor_val), len(target_tensor_val))"
      ],
      "execution_count": null,
      "outputs": [
        {
          "output_type": "stream",
          "text": [
            "21304 21304 5326 5326\n"
          ],
          "name": "stdout"
        }
      ]
    },
    {
      "cell_type": "code",
      "metadata": {
        "id": "7SUaR4zKfdYi"
      },
      "source": [
        "def convert(lang, tensor):\n",
        "  for t in tensor:\n",
        "    if t!=0:\n",
        "      print (\"%d ----> %s\" % (t, lang.index_word[t]))"
      ],
      "execution_count": null,
      "outputs": []
    },
    {
      "cell_type": "code",
      "metadata": {
        "colab": {
          "base_uri": "https://localhost:8080/"
        },
        "id": "4NXbkyPIfp3M",
        "outputId": "d71fb288-5851-4bd4-8c95-5cab2407cfa9"
      },
      "source": [
        "print (\"Input Language; index to word mapping\")\n",
        "convert(inp_lang, input_tensor_train[0])\n",
        "print ()\n",
        "print (\"Target Language; index to word mapping\")\n",
        "convert(targ_lang, target_tensor_train[0])"
      ],
      "execution_count": null,
      "outputs": [
        {
          "output_type": "stream",
          "text": [
            "Input Language; index to word mapping\n",
            "2 ----> <start>\n",
            "52 ----> cela\n",
            "21 ----> ne\n",
            "6334 ----> m’intéresse\n",
            "16 ----> pas\n",
            "4 ----> .\n",
            "3 ----> <end>\n",
            "\n",
            "Target Language; index to word mapping\n",
            "2 ----> <start>\n",
            "8 ----> un\n",
            "47 ----> ma\n",
            "129 ----> kan\n",
            "277 ----> byɔ́\n",
            "3 ----> <end>\n"
          ],
          "name": "stdout"
        }
      ]
    },
    {
      "cell_type": "markdown",
      "metadata": {
        "id": "mXsAGiJ-f2Sc"
      },
      "source": [
        "# Créer un ensemble de données tf.data"
      ]
    },
    {
      "cell_type": "code",
      "metadata": {
        "id": "Ls3i0-Ctfs_S"
      },
      "source": [
        "BUFFER_SIZE = len(input_tensor_train)\n",
        "BATCH_SIZE = 64\n",
        "steps_per_epoch = len(input_tensor_train)//BATCH_SIZE\n",
        "embedding_dim = 256\n",
        "units = 1024\n",
        "vocab_inp_size = len(inp_lang.word_index)+1\n",
        "vocab_tar_size = len(targ_lang.word_index)+1\n",
        "\n",
        "dataset = tf.data.Dataset.from_tensor_slices((input_tensor_train, target_tensor_train)).shuffle(BUFFER_SIZE)\n",
        "dataset = dataset.batch(BATCH_SIZE, drop_remainder=True)"
      ],
      "execution_count": null,
      "outputs": []
    },
    {
      "cell_type": "code",
      "metadata": {
        "colab": {
          "base_uri": "https://localhost:8080/"
        },
        "id": "LEsmo8YKgBPA",
        "outputId": "65ee3077-94e0-414a-a642-a79e20598656"
      },
      "source": [
        "example_input_batch, example_target_batch = next(iter(dataset))\n",
        "example_input_batch.shape, example_target_batch.shape"
      ],
      "execution_count": null,
      "outputs": [
        {
          "output_type": "execute_result",
          "data": {
            "text/plain": [
              "(TensorShape([64, 56]), TensorShape([64, 71]))"
            ]
          },
          "metadata": {
            "tags": []
          },
          "execution_count": 31
        }
      ]
    },
    {
      "cell_type": "markdown",
      "metadata": {
        "id": "ANCyPR96c0N7"
      },
      "source": [
        "# Ecrire le modèle d'encodeur et de décodeur"
      ]
    },
    {
      "cell_type": "markdown",
      "metadata": {
        "id": "KTBNeyPjeqtT"
      },
      "source": [
        "Le diagramme suivant montre que chaque mot d'entrée se voit attribuer un poids par le mécanisme d'attention qui est ensuite utilisé par le décodeur pour prédire le mot suivant dans la phrase. L'image et les formules ci-dessous sont un exemple de mécanisme d'attention tiré de l'article de [Luong](https://arxiv.org/abs/1508.04025v5).\r\n",
        "\r\n",
        "<img src=\"https://www.tensorflow.org/images/seq2seq/attention_mechanism.jpg\" width=\"500\" alt=\"attention mechanism\">\r\n",
        "\r\n",
        "L'entrée est soumise à un modèle d'encodeur qui nous donne la sortie d'encodeur de forme (batch_size, max_length, hidden_size) et l'état de forme caché de l'encodeur (batch_size, hidden_size) .\r\n",
        "\r\n",
        "Voici les équations qui sont implémentées:\r\n",
        "\r\n",
        "<img src=\"https://www.tensorflow.org/images/seq2seq/attention_equation_0.jpg\" alt=\"attention equation 0\" width=\"800\">\r\n",
        "<img src=\"https://www.tensorflow.org/images/seq2seq/attention_equation_1.jpg\" alt=\"attention equation 1\" width=\"800\">\r\n",
        "\r\n",
        "L' attention de Bahdanau est utilisé pour l'encodeur.\r\n",
        "\r\n",
        "La notation suivante est utilisé afin d'écrire la forme simplifiée:\r\n",
        "\r\n",
        "* FC = couche entièrement connectée (dense)\r\n",
        "* EO = sortie codeur\r\n",
        "* H = état caché\r\n",
        "* X = entrée du décodeur\r\n",
        "\r\n",
        "Et le pseudo-code:\r\n",
        "\r\n",
        "* ```score = FC(tanh(FC(EO) + FC(H)))```\r\n",
        "* ```attention weights = softmax(score, axis = 1)``` . Softmax par défaut est appliqué sur le dernier axe mais ici nous voulons l'appliquer sur le 1er axe , puisque la forme du score est (batch_size, max_length, hidden_size) . \r\n",
        "* ```Max_length``` est la longueur de notre entrée. Puisque nous essayons d'attribuer un poids à chaque entrée, softmax doit être appliqué sur cet axe.\r\n",
        "* ```context vector = sum(attention weights * EO, axis = 1)``` . Même raison que ci-dessus pour choisir l'axe comme 1.\r\n",
        "*  ```embedding output``` = L'entrée du décodeur X passe à travers une couche d'incorporation.\r\n",
        "* ```merged vector = concat(embedding output, context vector)```\r\n",
        "* Ce vecteur fusionné est ensuite donné au GRU"
      ]
    },
    {
      "cell_type": "code",
      "metadata": {
        "id": "-ZWeKz1UgGPP"
      },
      "source": [
        "class Encoder(tf.keras.Model):\n",
        "  def __init__(self, vocab_size, embedding_dim, enc_units, batch_sz):\n",
        "    super(Encoder, self).__init__()\n",
        "    self.batch_sz = batch_sz\n",
        "    self.enc_units = enc_units\n",
        "    self.embedding = tf.keras.layers.Embedding(vocab_size, embedding_dim)\n",
        "    self.gru = tf.keras.layers.GRU(self.enc_units,\n",
        "                                   return_sequences=True,\n",
        "                                   return_state=True,\n",
        "                                   recurrent_initializer='glorot_uniform')\n",
        "\n",
        "  def call(self, x, hidden):\n",
        "    x = self.embedding(x)\n",
        "    output, state = self.gru(x, initial_state = hidden)\n",
        "    return output, state\n",
        "\n",
        "  def initialize_hidden_state(self):\n",
        "    return tf.zeros((self.batch_sz, self.enc_units))"
      ],
      "execution_count": null,
      "outputs": []
    },
    {
      "cell_type": "code",
      "metadata": {
        "colab": {
          "base_uri": "https://localhost:8080/"
        },
        "id": "1s9mJRgtgc3K",
        "outputId": "53115b69-de25-429d-df7e-d69515c26dee"
      },
      "source": [
        "encoder = Encoder(vocab_inp_size, embedding_dim, units, BATCH_SIZE)\n",
        "\n",
        "# sample input\n",
        "sample_hidden = encoder.initialize_hidden_state()\n",
        "sample_output, sample_hidden = encoder(example_input_batch, sample_hidden)\n",
        "print ('Encoder output shape: (batch size, sequence length, units) {}'.format(sample_output.shape))\n",
        "print ('Encoder Hidden state shape: (batch size, units) {}'.format(sample_hidden.shape))"
      ],
      "execution_count": null,
      "outputs": [
        {
          "output_type": "stream",
          "text": [
            "Encoder output shape: (batch size, sequence length, units) (64, 56, 1024)\n",
            "Encoder Hidden state shape: (batch size, units) (64, 1024)\n"
          ],
          "name": "stdout"
        }
      ]
    },
    {
      "cell_type": "code",
      "metadata": {
        "id": "Xt_dwm8SghkU"
      },
      "source": [
        "class BahdanauAttention(tf.keras.layers.Layer):\n",
        "  def __init__(self, units):\n",
        "    super(BahdanauAttention, self).__init__()\n",
        "    self.W1 = tf.keras.layers.Dense(units)\n",
        "    self.W2 = tf.keras.layers.Dense(units)\n",
        "    self.V = tf.keras.layers.Dense(1)\n",
        "\n",
        "  def call(self, query, values):\n",
        "    # query hidden state shape == (batch_size, hidden size)\n",
        "    # query_with_time_axis shape == (batch_size, 1, hidden size)\n",
        "    # values shape == (batch_size, max_len, hidden size)\n",
        "    # we are doing this to broadcast addition along the time axis to calculate the score\n",
        "    query_with_time_axis = tf.expand_dims(query, 1)\n",
        "\n",
        "    # score shape == (batch_size, max_length, 1)\n",
        "    # we get 1 at the last axis because we are applying score to self.V\n",
        "    # the shape of the tensor before applying self.V is (batch_size, max_length, units)\n",
        "    score = self.V(tf.nn.tanh(\n",
        "        self.W1(query_with_time_axis) + self.W2(values)))\n",
        "\n",
        "    # attention_weights shape == (batch_size, max_length, 1)\n",
        "    attention_weights = tf.nn.softmax(score, axis=1)\n",
        "\n",
        "    # context_vector shape after sum == (batch_size, hidden_size)\n",
        "    context_vector = attention_weights * values\n",
        "    context_vector = tf.reduce_sum(context_vector, axis=1)\n",
        "\n",
        "    return context_vector, attention_weights"
      ],
      "execution_count": null,
      "outputs": []
    },
    {
      "cell_type": "code",
      "metadata": {
        "colab": {
          "base_uri": "https://localhost:8080/"
        },
        "id": "O-1SktDtgmZv",
        "outputId": "4e2a3603-1524-41ba-8b57-0c577c48df1e"
      },
      "source": [
        "attention_layer = BahdanauAttention(10)\n",
        "attention_result, attention_weights = attention_layer(sample_hidden, sample_output)\n",
        "\n",
        "print(\"Attention result shape: (batch size, units) {}\".format(attention_result.shape))\n",
        "print(\"Attention weights shape: (batch_size, sequence_length, 1) {}\".format(attention_weights.shape))"
      ],
      "execution_count": null,
      "outputs": [
        {
          "output_type": "stream",
          "text": [
            "Attention result shape: (batch size, units) (64, 1024)\n",
            "Attention weights shape: (batch_size, sequence_length, 1) (64, 56, 1)\n"
          ],
          "name": "stdout"
        }
      ]
    },
    {
      "cell_type": "code",
      "metadata": {
        "id": "tTIjASObgq68"
      },
      "source": [
        "class Decoder(tf.keras.Model):\n",
        "  def __init__(self, vocab_size, embedding_dim, dec_units, batch_sz):\n",
        "    super(Decoder, self).__init__()\n",
        "    self.batch_sz = batch_sz\n",
        "    self.dec_units = dec_units\n",
        "    self.embedding = tf.keras.layers.Embedding(vocab_size, embedding_dim)\n",
        "    self.gru = tf.keras.layers.GRU(self.dec_units,\n",
        "                                   return_sequences=True,\n",
        "                                   return_state=True,\n",
        "                                   recurrent_initializer='glorot_uniform')\n",
        "    self.fc = tf.keras.layers.Dense(vocab_size)\n",
        "\n",
        "    # used for attention\n",
        "    self.attention = BahdanauAttention(self.dec_units)\n",
        "\n",
        "  def call(self, x, hidden, enc_output):\n",
        "    # enc_output shape == (batch_size, max_length, hidden_size)\n",
        "    context_vector, attention_weights = self.attention(hidden, enc_output)\n",
        "\n",
        "    # x shape after passing through embedding == (batch_size, 1, embedding_dim)\n",
        "    x = self.embedding(x)\n",
        "\n",
        "    # x shape after concatenation == (batch_size, 1, embedding_dim + hidden_size)\n",
        "    x = tf.concat([tf.expand_dims(context_vector, 1), x], axis=-1)\n",
        "\n",
        "    # passing the concatenated vector to the GRU\n",
        "    output, state = self.gru(x)\n",
        "\n",
        "    # output shape == (batch_size * 1, hidden_size)\n",
        "    output = tf.reshape(output, (-1, output.shape[2]))\n",
        "\n",
        "    # output shape == (batch_size, vocab)\n",
        "    x = self.fc(output)\n",
        "\n",
        "    return x, state, attention_weights"
      ],
      "execution_count": null,
      "outputs": []
    },
    {
      "cell_type": "code",
      "metadata": {
        "colab": {
          "base_uri": "https://localhost:8080/"
        },
        "id": "ARWzsvbkgvC9",
        "outputId": "efb5613d-4a76-4845-f06e-d4a444adde11"
      },
      "source": [
        "decoder = Decoder(vocab_tar_size, embedding_dim, units, BATCH_SIZE)\n",
        "\n",
        "sample_decoder_output, _, _ = decoder(tf.random.uniform((BATCH_SIZE, 1)),\n",
        "                                      sample_hidden, sample_output)\n",
        "\n",
        "print ('Decoder output shape: (batch_size, vocab size) {}'.format(sample_decoder_output.shape))"
      ],
      "execution_count": null,
      "outputs": [
        {
          "output_type": "stream",
          "text": [
            "Decoder output shape: (batch_size, vocab size) (64, 9749)\n"
          ],
          "name": "stdout"
        }
      ]
    },
    {
      "cell_type": "markdown",
      "metadata": {
        "id": "wQYQFo3-g04u"
      },
      "source": [
        "# Définir l'optimiseur et la fonction de perte"
      ]
    },
    {
      "cell_type": "code",
      "metadata": {
        "id": "yXniP_pugyB2"
      },
      "source": [
        "optimizer = tf.keras.optimizers.Adam()\n",
        "loss_object = tf.keras.losses.SparseCategoricalCrossentropy(\n",
        "    from_logits=True, reduction='none')\n",
        "\n",
        "def loss_function(real, pred):\n",
        "  mask = tf.math.logical_not(tf.math.equal(real, 0))\n",
        "  loss_ = loss_object(real, pred)\n",
        "\n",
        "  mask = tf.cast(mask, dtype=loss_.dtype)\n",
        "  loss_ *= mask\n",
        "\n",
        "  return tf.reduce_mean(loss_)"
      ],
      "execution_count": null,
      "outputs": []
    },
    {
      "cell_type": "markdown",
      "metadata": {
        "id": "VSp21_SegqqW"
      },
      "source": [
        "# Points de contrôle (enregistrement basé sur les objets)"
      ]
    },
    {
      "cell_type": "code",
      "metadata": {
        "id": "Qkoh1imDg2au"
      },
      "source": [
        "checkpoint_dir = dossier + 'training_checkpoints_fon' #for fon\n",
        "#checkpoint_dir = dossier + 'training_checkpoints_ewe' #for ewe\n",
        "\n",
        "checkpoint_prefix = os.path.join(checkpoint_dir, \"ckpt\")\n",
        "checkpoint = tf.train.Checkpoint(optimizer=optimizer,\n",
        "                                 encoder=encoder,\n",
        "                                 decoder=decoder)"
      ],
      "execution_count": null,
      "outputs": []
    },
    {
      "cell_type": "markdown",
      "metadata": {
        "id": "Na5tebLWhE8w"
      },
      "source": [
        "# L'entraînement\r\n",
        "\r\n",
        "1-  Passez l' entrée à travers le codeur qui renvoie la sortie du codeur et l' état caché du codeur .\r\n",
        "\r\n",
        "2-  La sortie du codeur, l'état caché du codeur et l'entrée du décodeur (qui est le jeton de démarrage ) sont transmis au décodeur.\r\n",
        "\r\n",
        "3-  Le décodeur renvoie les prédictions et l' état caché du décodeur .\r\n",
        "\r\n",
        "4-  L'état caché du décodeur est ensuite renvoyé dans le modèle et les prédictions sont utilisées pour calculer la perte.\r\n",
        "\r\n",
        "5-  Utilisez le forçage de l'enseignant pour décider de la prochaine entrée du décodeur.\r\n",
        "\r\n",
        "6-  Le forçage par l'enseignant est la technique dans laquelle le mot cible est transmis comme entrée suivante au décodeur.\r\n",
        "\r\n",
        "7-  La dernière étape consiste à calculer les dégradés et à l'appliquer à l'optimiseur et à la rétropropagation.\r\n"
      ]
    },
    {
      "cell_type": "code",
      "metadata": {
        "id": "7edrDvWDhM-J"
      },
      "source": [
        "@tf.function\n",
        "def train_step(inp, targ, enc_hidden):\n",
        "  loss = 0\n",
        "\n",
        "  with tf.GradientTape() as tape:\n",
        "    enc_output, enc_hidden = encoder(inp, enc_hidden)\n",
        "\n",
        "    dec_hidden = enc_hidden\n",
        "\n",
        "    dec_input = tf.expand_dims([targ_lang.word_index['<start>']] * BATCH_SIZE, 1)\n",
        "\n",
        "    # Teacher forcing - feeding the target as the next input\n",
        "    for t in range(1, targ.shape[1]):\n",
        "      # passing enc_output to the decoder\n",
        "      predictions, dec_hidden, _ = decoder(dec_input, dec_hidden, enc_output)\n",
        "\n",
        "      loss += loss_function(targ[:, t], predictions)\n",
        "\n",
        "      # using teacher forcing\n",
        "      dec_input = tf.expand_dims(targ[:, t], 1)\n",
        "\n",
        "  batch_loss = (loss / int(targ.shape[1]))\n",
        "\n",
        "  variables = encoder.trainable_variables + decoder.trainable_variables\n",
        "\n",
        "  gradients = tape.gradient(loss, variables)\n",
        "\n",
        "  optimizer.apply_gradients(zip(gradients, variables))\n",
        "\n",
        "  return batch_loss"
      ],
      "execution_count": null,
      "outputs": []
    },
    {
      "cell_type": "code",
      "metadata": {
        "colab": {
          "base_uri": "https://localhost:8080/"
        },
        "id": "bu4KLq6VhRGd",
        "outputId": "00f82543-2d2e-417e-ff7d-c7956f3fa431"
      },
      "source": [
        "EPOCHS = 10\n",
        "\n",
        "for epoch in range(EPOCHS):\n",
        "  start = time.time()\n",
        "\n",
        "  enc_hidden = encoder.initialize_hidden_state()\n",
        "  total_loss = 0\n",
        "\n",
        "  for (batch, (inp, targ)) in enumerate(dataset.take(steps_per_epoch)):\n",
        "    batch_loss = train_step(inp, targ, enc_hidden)\n",
        "    total_loss += batch_loss\n",
        "\n",
        "    if batch % 100 == 0:\n",
        "      print('Epoch {} Batch {} Loss {:.4f}'.format(epoch + 1,\n",
        "                                                   batch,\n",
        "                                                   batch_loss.numpy()))\n",
        "  # saving (checkpoint) the model every 2 epochs\n",
        "  if (epoch + 1) % 2 == 0:\n",
        "    checkpoint.save(file_prefix = checkpoint_prefix)\n",
        "\n",
        "  print('Epoch {} Loss {:.4f}'.format(epoch + 1,\n",
        "                                      total_loss / steps_per_epoch))\n",
        "  print('Time taken for 1 epoch {} sec\\n'.format(time.time() - start))"
      ],
      "execution_count": null,
      "outputs": [
        {
          "output_type": "stream",
          "text": [
            "Epoch 1 Batch 0 Loss 0.9318\n",
            "Epoch 1 Batch 100 Loss 0.6469\n",
            "Epoch 1 Batch 200 Loss 0.5606\n",
            "Epoch 1 Batch 300 Loss 0.5354\n",
            "Epoch 1 Loss 0.5612\n",
            "Time taken for 1 epoch 350.70720314979553 sec\n",
            "\n",
            "Epoch 2 Batch 0 Loss 0.4639\n",
            "Epoch 2 Batch 100 Loss 0.4700\n",
            "Epoch 2 Batch 200 Loss 0.4544\n",
            "Epoch 2 Batch 300 Loss 0.4054\n",
            "Epoch 2 Loss 0.4532\n",
            "Time taken for 1 epoch 285.4874322414398 sec\n",
            "\n",
            "Epoch 3 Batch 0 Loss 0.4431\n",
            "Epoch 3 Batch 100 Loss 0.4214\n",
            "Epoch 3 Batch 200 Loss 0.3491\n",
            "Epoch 3 Batch 300 Loss 0.3578\n",
            "Epoch 3 Loss 0.3882\n",
            "Time taken for 1 epoch 283.85774755477905 sec\n",
            "\n",
            "Epoch 4 Batch 0 Loss 0.3312\n",
            "Epoch 4 Batch 100 Loss 0.2794\n",
            "Epoch 4 Batch 200 Loss 0.3071\n",
            "Epoch 4 Batch 300 Loss 0.3449\n",
            "Epoch 4 Loss 0.3279\n",
            "Time taken for 1 epoch 284.659295797348 sec\n",
            "\n",
            "Epoch 5 Batch 0 Loss 0.2800\n",
            "Epoch 5 Batch 100 Loss 0.2798\n",
            "Epoch 5 Batch 200 Loss 0.2315\n",
            "Epoch 5 Batch 300 Loss 0.2551\n",
            "Epoch 5 Loss 0.2677\n",
            "Time taken for 1 epoch 283.7257797718048 sec\n",
            "\n",
            "Epoch 6 Batch 0 Loss 0.2176\n",
            "Epoch 6 Batch 100 Loss 0.1764\n",
            "Epoch 6 Batch 200 Loss 0.2107\n",
            "Epoch 6 Batch 300 Loss 0.2103\n",
            "Epoch 6 Loss 0.2089\n",
            "Time taken for 1 epoch 284.7756884098053 sec\n",
            "\n",
            "Epoch 7 Batch 0 Loss 0.1498\n",
            "Epoch 7 Batch 100 Loss 0.1565\n",
            "Epoch 7 Batch 200 Loss 0.1606\n",
            "Epoch 7 Batch 300 Loss 0.1692\n",
            "Epoch 7 Loss 0.1577\n",
            "Time taken for 1 epoch 283.747896194458 sec\n",
            "\n",
            "Epoch 8 Batch 0 Loss 0.1179\n",
            "Epoch 8 Batch 100 Loss 0.1126\n",
            "Epoch 8 Batch 200 Loss 0.1366\n",
            "Epoch 8 Batch 300 Loss 0.1170\n",
            "Epoch 8 Loss 0.1157\n",
            "Time taken for 1 epoch 284.9110004901886 sec\n",
            "\n",
            "Epoch 9 Batch 0 Loss 0.0808\n",
            "Epoch 9 Batch 100 Loss 0.0728\n",
            "Epoch 9 Batch 200 Loss 0.0813\n",
            "Epoch 9 Batch 300 Loss 0.1196\n",
            "Epoch 9 Loss 0.0843\n",
            "Time taken for 1 epoch 283.6224720478058 sec\n",
            "\n",
            "Epoch 10 Batch 0 Loss 0.0677\n",
            "Epoch 10 Batch 100 Loss 0.0762\n",
            "Epoch 10 Batch 200 Loss 0.0507\n",
            "Epoch 10 Batch 300 Loss 0.0805\n",
            "Epoch 10 Loss 0.0624\n",
            "Time taken for 1 epoch 284.86595034599304 sec\n",
            "\n"
          ],
          "name": "stdout"
        }
      ]
    },
    {
      "cell_type": "markdown",
      "metadata": {
        "id": "5j3DVsmhibDJ"
      },
      "source": [
        "# Traduire\r\n",
        "\r\n",
        "* La fonction d'évaluation est similaire à la boucle d'apprentissage, sauf que \r\n",
        "nous n'utilisons pas le forçage de l'enseignant ici. L'entrée du décodeur à chaque pas de temps correspond à ses prédictions précédentes avec l'état caché et la sortie du codeur.\r\n",
        "* Arrêtez de prédire quand le modèle prédit le jeton de fin .\r\n",
        "* Et stockez les poids d'attention pour chaque pas de temps ."
      ]
    },
    {
      "cell_type": "code",
      "metadata": {
        "id": "Yy_Sg-hMhgXx"
      },
      "source": [
        "def evaluate(sentence):\n",
        "  attention_plot = np.zeros((max_length_targ, max_length_inp))\n",
        "\n",
        "  sentence = preprocess_sentence(sentence)\n",
        "\n",
        "  inputs = [inp_lang.word_index.get(i, 1) for i in sentence.split(' ')]\n",
        "  inputs = tf.keras.preprocessing.sequence.pad_sequences([inputs],\n",
        "                                                         maxlen=max_length_inp,\n",
        "                                                         padding='post')\n",
        "  inputs = tf.convert_to_tensor(inputs)\n",
        "\n",
        "  result = ''\n",
        "\n",
        "  hidden = [tf.zeros((1, units))]\n",
        "  enc_out, enc_hidden = encoder(inputs, hidden)\n",
        "\n",
        "  dec_hidden = enc_hidden\n",
        "  dec_input = tf.expand_dims([targ_lang.word_index['<start>']], 0)\n",
        "\n",
        "  for t in range(max_length_targ):\n",
        "    predictions, dec_hidden, attention_weights = decoder(dec_input,\n",
        "                                                         dec_hidden,\n",
        "                                                         enc_out)\n",
        "\n",
        "    # storing the attention weights to plot later on\n",
        "    attention_weights = tf.reshape(attention_weights, (-1, ))\n",
        "    attention_plot[t] = attention_weights.numpy()\n",
        "\n",
        "    predicted_id = tf.argmax(predictions[0]).numpy()\n",
        "\n",
        "    result += targ_lang.index_word[predicted_id] + ' '\n",
        "\n",
        "    if targ_lang.index_word[predicted_id] == '<end>':\n",
        "      return result, sentence, attention_plot\n",
        "\n",
        "    # the predicted ID is fed back into the model\n",
        "    dec_input = tf.expand_dims([predicted_id], 0)\n",
        "\n",
        "  return result, sentence, attention_plot"
      ],
      "execution_count": null,
      "outputs": []
    },
    {
      "cell_type": "code",
      "metadata": {
        "id": "7vIUC-sNxoej"
      },
      "source": [
        "# function for plotting the attention weights\n",
        "def plot_attention(attention, sentence, predicted_sentence):\n",
        "  fig = plt.figure(figsize=(10,10))\n",
        "  ax = fig.add_subplot(1, 1, 1)\n",
        "  ax.matshow(attention, cmap='viridis')\n",
        "\n",
        "  fontdict = {'fontsize': 14}\n",
        "\n",
        "  ax.set_xticklabels([''] + sentence, fontdict=fontdict, rotation=90)\n",
        "  ax.set_yticklabels([''] + predicted_sentence, fontdict=fontdict)\n",
        "\n",
        "  ax.xaxis.set_major_locator(ticker.MultipleLocator(1))\n",
        "  ax.yaxis.set_major_locator(ticker.MultipleLocator(1))\n",
        "\n",
        "  plt.show()"
      ],
      "execution_count": null,
      "outputs": []
    },
    {
      "cell_type": "code",
      "metadata": {
        "id": "ssLkFRxfxoqc"
      },
      "source": [
        "def translate(sentence):\n",
        "  result, sentence, attention_plot = evaluate(sentence)\n",
        "\n",
        "  #print('Input: %s' % (sentence))\n",
        "  #print('Predicted translation: {}'.format(result))\n",
        "\n",
        "  #attention_plot = attention_plot[:len(result.split(' ')), :len(sentence.split(' '))]\n",
        "  #plot_attention(attention_plot, sentence.split(' '), result.split(' '))\n",
        "  result = result.replace('<end>', '')\n",
        "  return result.strip()"
      ],
      "execution_count": null,
      "outputs": []
    },
    {
      "cell_type": "markdown",
      "metadata": {
        "id": "RXoiSs19x5xT"
      },
      "source": [
        "# Restaurez le dernier point de contrôle et testez"
      ]
    },
    {
      "cell_type": "code",
      "metadata": {
        "colab": {
          "base_uri": "https://localhost:8080/"
        },
        "id": "MfsImXmcxo1N",
        "outputId": "d7dea745-ae61-4f41-b78c-485a5cb4ac95"
      },
      "source": [
        "# restoring the latest checkpoint in checkpoint_dir\n",
        "# checkpoint_dir = dossier + 'training_checkpoints_ewe' #for ewe\n",
        "\n",
        "checkpoint_dir = dossier + 'training_checkpoints_fon' #for fon\n",
        "\n",
        "checkpoint.restore(tf.train.latest_checkpoint(checkpoint_dir))"
      ],
      "execution_count": null,
      "outputs": [
        {
          "output_type": "execute_result",
          "data": {
            "text/plain": [
              "<tensorflow.python.training.tracking.util.CheckpointLoadStatus at 0x7fb1f51636d0>"
            ]
          },
          "metadata": {
            "tags": []
          },
          "execution_count": 44
        }
      ]
    },
    {
      "cell_type": "code",
      "metadata": {
        "id": "w3J3L7wJobDz"
      },
      "source": [
        "pd.set_option('display.max_colwidth', 100000 )"
      ],
      "execution_count": null,
      "outputs": []
    },
    {
      "cell_type": "code",
      "metadata": {
        "colab": {
          "base_uri": "https://localhost:8080/",
          "height": 425
        },
        "id": "h7aWo_us6GpG",
        "outputId": "b3835287-6723-443c-ddd5-86582fe6aaec"
      },
      "source": [
        "fon_train\r\n",
        "#ewe_train"
      ],
      "execution_count": null,
      "outputs": [
        {
          "output_type": "execute_result",
          "data": {
            "text/html": [
              "<div>\n",
              "<style scoped>\n",
              "    .dataframe tbody tr th:only-of-type {\n",
              "        vertical-align: middle;\n",
              "    }\n",
              "\n",
              "    .dataframe tbody tr th {\n",
              "        vertical-align: top;\n",
              "    }\n",
              "\n",
              "    .dataframe thead th {\n",
              "        text-align: right;\n",
              "    }\n",
              "</style>\n",
              "<table border=\"1\" class=\"dataframe\">\n",
              "  <thead>\n",
              "    <tr style=\"text-align: right;\">\n",
              "      <th></th>\n",
              "      <th>ID</th>\n",
              "      <th>French</th>\n",
              "      <th>Target_Language</th>\n",
              "      <th>Target</th>\n",
              "    </tr>\n",
              "  </thead>\n",
              "  <tbody>\n",
              "    <tr>\n",
              "      <th>0</th>\n",
              "      <td>ID_AADNDxdl</td>\n",
              "      <td>Mon père</td>\n",
              "      <td>Fon</td>\n",
              "      <td>Tɔ ce</td>\n",
              "    </tr>\n",
              "    <tr>\n",
              "      <th>1</th>\n",
              "      <td>ID_AAFQhmDr</td>\n",
              "      <td>Mettez-vous en rang.</td>\n",
              "      <td>Fon</td>\n",
              "      <td>Mi tò miɖéé</td>\n",
              "    </tr>\n",
              "    <tr>\n",
              "      <th>2</th>\n",
              "      <td>ID_AAJfVHEH</td>\n",
              "      <td>Son doigt lui fait mal.</td>\n",
              "      <td>Fon</td>\n",
              "      <td>Alɔvi tɔn ɖo vivɛ wɛ</td>\n",
              "    </tr>\n",
              "    <tr>\n",
              "      <th>3</th>\n",
              "      <td>ID_AAOJuhzN</td>\n",
              "      <td>La pluie a commencé.</td>\n",
              "      <td>Fon</td>\n",
              "      <td>Jì bɛ́</td>\n",
              "    </tr>\n",
              "    <tr>\n",
              "      <th>4</th>\n",
              "      <td>ID_AAOZhyDe</td>\n",
              "      <td>Les garçons et les filles sont au cours élémentaire .</td>\n",
              "      <td>Fon</td>\n",
              "      <td>Nyɔnu lε kpo sunnu lε kpo ɖo wemaxomε ayi jε tɔn mε</td>\n",
              "    </tr>\n",
              "    <tr>\n",
              "      <th>...</th>\n",
              "      <td>...</td>\n",
              "      <td>...</td>\n",
              "      <td>...</td>\n",
              "      <td>...</td>\n",
              "    </tr>\n",
              "    <tr>\n",
              "      <th>53129</th>\n",
              "      <td>ID_zzsOfbtD</td>\n",
              "      <td>Reconduis-le.</td>\n",
              "      <td>Fon</td>\n",
              "      <td>Kpl’ɛ́ yì</td>\n",
              "    </tr>\n",
              "    <tr>\n",
              "      <th>53130</th>\n",
              "      <td>ID_zztJChgi</td>\n",
              "      <td>Le vent pousse le nuage</td>\n",
              "      <td>Fon</td>\n",
              "      <td>Jɔhɔn ɔ ɖo akpɔkpɔ sisε wε.</td>\n",
              "    </tr>\n",
              "    <tr>\n",
              "      <th>53131</th>\n",
              "      <td>ID_zztqxmJe</td>\n",
              "      <td>Si mon mari conduit, c’est que ce n’est pas loin .</td>\n",
              "      <td>Fon</td>\n",
              "      <td>Nu asu ce kun hun ɔ, hun e lin a nε</td>\n",
              "    </tr>\n",
              "    <tr>\n",
              "      <th>53132</th>\n",
              "      <td>ID_zzxVgzgw</td>\n",
              "      <td>Cette année, je vais épouser celle-là.</td>\n",
              "      <td>Fon</td>\n",
              "      <td>Xwe elɔ mɛ, un na wli alɔ x’ɛ</td>\n",
              "    </tr>\n",
              "    <tr>\n",
              "      <th>53133</th>\n",
              "      <td>ID_zzzEhSHN</td>\n",
              "      <td>Dans une casserole, je la fais fondre dans un litre d'eau chaude.</td>\n",
              "      <td>Fon</td>\n",
              "      <td>Ɖo ganzɛn kpɛvi mɛ ɔ, un hɛn sinsin ɖo sin zozo litli ɖokpo mɛ</td>\n",
              "    </tr>\n",
              "  </tbody>\n",
              "</table>\n",
              "<p>53134 rows × 4 columns</p>\n",
              "</div>"
            ],
            "text/plain": [
              "                ID  ...                                                          Target\n",
              "0      ID_AADNDxdl  ...                                                           Tɔ ce\n",
              "1      ID_AAFQhmDr  ...                                                     Mi tò miɖéé\n",
              "2      ID_AAJfVHEH  ...                                            Alɔvi tɔn ɖo vivɛ wɛ\n",
              "3      ID_AAOJuhzN  ...                                                          Jì bɛ́\n",
              "4      ID_AAOZhyDe  ...             Nyɔnu lε kpo sunnu lε kpo ɖo wemaxomε ayi jε tɔn mε\n",
              "...            ...  ...                                                             ...\n",
              "53129  ID_zzsOfbtD  ...                                                       Kpl’ɛ́ yì\n",
              "53130  ID_zztJChgi  ...                                     Jɔhɔn ɔ ɖo akpɔkpɔ sisε wε.\n",
              "53131  ID_zztqxmJe  ...                             Nu asu ce kun hun ɔ, hun e lin a nε\n",
              "53132  ID_zzxVgzgw  ...                                   Xwe elɔ mɛ, un na wli alɔ x’ɛ\n",
              "53133  ID_zzzEhSHN  ...  Ɖo ganzɛn kpɛvi mɛ ɔ, un hɛn sinsin ɖo sin zozo litli ɖokpo mɛ\n",
              "\n",
              "[53134 rows x 4 columns]"
            ]
          },
          "metadata": {
            "tags": []
          },
          "execution_count": 46
        }
      ]
    },
    {
      "cell_type": "code",
      "metadata": {
        "colab": {
          "base_uri": "https://localhost:8080/",
          "height": 198
        },
        "id": "YH2wdF2J6h9x",
        "outputId": "bbdb5cb7-06a6-4504-9b96-1a61c8ab4ec9"
      },
      "source": [
        "#test[test.Target_Language=='Fon'].sample(5)\r\n",
        "fon_train.sample(5)\r\n",
        "#ewe_train.sample(5)"
      ],
      "execution_count": null,
      "outputs": [
        {
          "output_type": "execute_result",
          "data": {
            "text/html": [
              "<div>\n",
              "<style scoped>\n",
              "    .dataframe tbody tr th:only-of-type {\n",
              "        vertical-align: middle;\n",
              "    }\n",
              "\n",
              "    .dataframe tbody tr th {\n",
              "        vertical-align: top;\n",
              "    }\n",
              "\n",
              "    .dataframe thead th {\n",
              "        text-align: right;\n",
              "    }\n",
              "</style>\n",
              "<table border=\"1\" class=\"dataframe\">\n",
              "  <thead>\n",
              "    <tr style=\"text-align: right;\">\n",
              "      <th></th>\n",
              "      <th>ID</th>\n",
              "      <th>French</th>\n",
              "      <th>Target_Language</th>\n",
              "      <th>Target</th>\n",
              "    </tr>\n",
              "  </thead>\n",
              "  <tbody>\n",
              "    <tr>\n",
              "      <th>29353</th>\n",
              "      <td>ID_cZmdJiEI</td>\n",
              "      <td>très beau (denrée)</td>\n",
              "      <td>Fon</td>\n",
              "      <td>nylă kàn</td>\n",
              "    </tr>\n",
              "    <tr>\n",
              "      <th>14188</th>\n",
              "      <td>ID_NrOPyicY</td>\n",
              "      <td>Ce monsieur est le chef de notre localité.</td>\n",
              "      <td>Fon</td>\n",
              "      <td>Mɛɖaxó élɔ́ ɔ́ kpà'cɛ̀ dó tò mìtɔ́n mɛ̀</td>\n",
              "    </tr>\n",
              "    <tr>\n",
              "      <th>7022</th>\n",
              "      <td>ID_Gqhlsgcw</td>\n",
              "      <td>A ta santé !</td>\n",
              "      <td>Fon</td>\n",
              "      <td>Sin n’í yí kɔ̀ !</td>\n",
              "    </tr>\n",
              "    <tr>\n",
              "      <th>44021</th>\n",
              "      <td>ID_qzXsCxId</td>\n",
              "      <td>La poule pond des oeufs .</td>\n",
              "      <td>Fon</td>\n",
              "      <td>Koklo ɔ ɖo azin ɖo wε</td>\n",
              "    </tr>\n",
              "    <tr>\n",
              "      <th>31913</th>\n",
              "      <td>ID_fAuzKJrH</td>\n",
              "      <td>Mais ta mère me rend fou.</td>\n",
              "      <td>Fon</td>\n",
              "      <td>Nɔ ce nɔ do taɖu mi</td>\n",
              "    </tr>\n",
              "  </tbody>\n",
              "</table>\n",
              "</div>"
            ],
            "text/plain": [
              "                ID  ...                                   Target\n",
              "29353  ID_cZmdJiEI  ...                                 nylă kàn\n",
              "14188  ID_NrOPyicY  ...  Mɛɖaxó élɔ́ ɔ́ kpà'cɛ̀ dó tò mìtɔ́n mɛ̀\n",
              "7022   ID_Gqhlsgcw  ...                         Sin n’í yí kɔ̀ !\n",
              "44021  ID_qzXsCxId  ...                    Koklo ɔ ɖo azin ɖo wε\n",
              "31913  ID_fAuzKJrH  ...                      Nɔ ce nɔ do taɖu mi\n",
              "\n",
              "[5 rows x 4 columns]"
            ]
          },
          "metadata": {
            "tags": []
          },
          "execution_count": 47
        }
      ]
    },
    {
      "cell_type": "code",
      "metadata": {
        "colab": {
          "base_uri": "https://localhost:8080/",
          "height": 34
        },
        "id": "C6f1Cn4kxo-Y",
        "outputId": "23779d37-3f76-454e-819f-b41c314644d8"
      },
      "source": [
        "translate(\"Je vais au marche\")"
      ],
      "execution_count": null,
      "outputs": [
        {
          "output_type": "execute_result",
          "data": {
            "application/vnd.google.colaboratory.intrinsic+json": {
              "type": "string"
            },
            "text/plain": [
              "'un ɖo xu to mi'"
            ]
          },
          "metadata": {
            "tags": []
          },
          "execution_count": 66
        }
      ]
    },
    {
      "cell_type": "code",
      "metadata": {
        "colab": {
          "base_uri": "https://localhost:8080/"
        },
        "id": "6w9thDsFzGIT",
        "outputId": "fc263d15-a276-4795-e1e3-34f2e63f8845"
      },
      "source": [
        "print(fon_train['French'][12])\r\n",
        "#print(ewe_train['French'][10])\r\n",
        "#translate(fon_test['French'][12])"
      ],
      "execution_count": null,
      "outputs": [
        {
          "output_type": "stream",
          "text": [
            "C'est très bien.\n"
          ],
          "name": "stdout"
        }
      ]
    },
    {
      "cell_type": "code",
      "metadata": {
        "id": "QmAQRuqq6Mb7"
      },
      "source": [
        "test_bleu = train_exp[train_exp.Target_Language=='Fon'].copy()\n",
        "\n",
        "#test_bleu\n",
        "#test_bleu = fon_train.copy()\n",
        "#test_bleu\n",
        "#test_bleu = ewe_train.copy()\n",
        "#test_bleu"
      ],
      "execution_count": null,
      "outputs": []
    },
    {
      "cell_type": "code",
      "metadata": {
        "id": "WOPxaIrgBvrC"
      },
      "source": [
        "def clean(w):\n",
        "  w = w.replace('.', '').strip()\n",
        "  return w"
      ],
      "execution_count": null,
      "outputs": []
    },
    {
      "cell_type": "code",
      "metadata": {
        "id": "e4djPO9y-Lrs"
      },
      "source": [
        "# clean the dots at the end of sentences\r\n",
        "ref = [test_bleu['Target'].apply(clean).tolist()]"
      ],
      "execution_count": null,
      "outputs": []
    },
    {
      "cell_type": "code",
      "metadata": {
        "id": "S0Vd87QGIp5P",
        "colab": {
          "base_uri": "https://localhost:8080/",
          "height": 66,
          "referenced_widgets": [
            "7fed4a4c0819449a9c096ef5f4a1df5d",
            "d33d63ba3b4d418a82a1e509cf86da8c",
            "7f29dd73e53c4535bf2b15512ac936a8",
            "afc8ea4303164758a53328da6d8d5dd4",
            "5186cf22cd944efd97f77fb2fe7f92a9",
            "b6d079e18af24bf8ae02744b50162418",
            "e41612ca2b83416fa076f711347d3980",
            "d76e6fd9abbe4b88bf4fdbb66c5509b6"
          ]
        },
        "outputId": "87239203-0ef4-4302-c325-99d46d9e9f67"
      },
      "source": [
        "# clean the dots at the end of sentences\r\n",
        "test_bleu['predictions'] = test_bleu.French.progress_apply(clean)"
      ],
      "execution_count": null,
      "outputs": [
        {
          "output_type": "display_data",
          "data": {
            "application/vnd.jupyter.widget-view+json": {
              "model_id": "7fed4a4c0819449a9c096ef5f4a1df5d",
              "version_minor": 0,
              "version_major": 2
            },
            "text/plain": [
              "HBox(children=(FloatProgress(value=0.0, max=26630.0), HTML(value='')))"
            ]
          },
          "metadata": {
            "tags": []
          }
        },
        {
          "output_type": "stream",
          "text": [
            "\n"
          ],
          "name": "stdout"
        }
      ]
    },
    {
      "cell_type": "code",
      "metadata": {
        "id": "zlBOXsSS-iM6",
        "colab": {
          "base_uri": "https://localhost:8080/",
          "height": 66,
          "referenced_widgets": [
            "5f8200bca59842aaa435685444d31569",
            "1c85625b96704f989b9675ce1837e950",
            "e8a79f86641c4d8c80f94e41e27f622e",
            "93bc1e735e3d44e2b8ed73b96693b9f1",
            "2088bd99bc7647b4a0a389df7f8864aa",
            "2406957f59854947a96544769ba7b3d1",
            "cff36fa45c2e485b839e916be50f6d0e",
            "76b920c84c0a47798a0ff993cd9ecc0b"
          ]
        },
        "outputId": "09f8f13b-b925-4353-8f04-2901202389fc"
      },
      "source": [
        "test_bleu['predictions'] = test_bleu.predictions.progress_apply(translate)"
      ],
      "execution_count": null,
      "outputs": [
        {
          "output_type": "display_data",
          "data": {
            "application/vnd.jupyter.widget-view+json": {
              "model_id": "5f8200bca59842aaa435685444d31569",
              "version_major": 2,
              "version_minor": 0
            },
            "text/plain": [
              "HBox(children=(FloatProgress(value=0.0, max=26630.0), HTML(value='')))"
            ]
          },
          "metadata": {
            "tags": []
          }
        },
        {
          "output_type": "stream",
          "text": [
            "\n"
          ],
          "name": "stdout"
        }
      ]
    },
    {
      "cell_type": "code",
      "metadata": {
        "colab": {
          "base_uri": "https://localhost:8080/"
        },
        "id": "pFCvOiB2JCpx",
        "outputId": "41555955-1472-4084-c9b9-62e336e3cf6c"
      },
      "source": [
        "test_bleu['predictions'][:5]"
      ],
      "execution_count": null,
      "outputs": [
        {
          "output_type": "execute_result",
          "data": {
            "text/plain": [
              "60321                                                                                                                                                                       mi ɖe lɛ lo , etɛ mi nɔ blo ?\n",
              "73580                                                                                                                                                                       mεsέdó - wɛndotɔ́ - wɛnsagùn\n",
              "19789                                                                                                                                                                                             aza vaà\n",
              "61425                                                                                                                                                                                          sìn blùblú\n",
              "65617    e ɖo na ba do nu mɛ ɖi lee jlo e ɖɔ xo e ɖɔ xo e ɖɔ xo e ɖɔ xo e ɖɔ xo e ɖɔ xo e ɖɔ xo e ɖɔ xo e ɖɔ xo e ɖɔ xo e ɖɔ xo e ɖɔ xo e ɖɔ xo e ɖɔ xo e ɖɔ xo e ɖɔ xo e ɖɔ xo e ɖɔ xo e ɖɔ xo e ɖɔ xo e\n",
              "Name: predictions, dtype: object"
            ]
          },
          "metadata": {
            "tags": []
          },
          "execution_count": 55
        }
      ]
    },
    {
      "cell_type": "code",
      "metadata": {
        "id": "XB4QDY6-CGoY",
        "colab": {
          "base_uri": "https://localhost:8080/",
          "height": 66,
          "referenced_widgets": [
            "27fd0040e65e45c6b1182c7881eb242c",
            "e0ceedd1db044ba1a4e2e232b888d0f2",
            "863bb4e08d9e47fc92756c24201c7b47",
            "ff14435bdcba493d87d443a4bd9f9901",
            "b136be59f8354548a309fd9f8b1b55a5",
            "f9303752d1944a70894d5934d489d1bb",
            "5fbaed5bbdb24d56a1f3dfe86e52a3e9",
            "5b866866177545a4b615e506d7ea3501"
          ]
        },
        "outputId": "c80e8b53-2bcf-4ef9-83b6-ef793deb7f06"
      },
      "source": [
        "# clean <dots> in translation\r\n",
        "test_bleu['predictions'] = test_bleu['predictions'].progress_apply(clean)"
      ],
      "execution_count": null,
      "outputs": [
        {
          "output_type": "display_data",
          "data": {
            "application/vnd.jupyter.widget-view+json": {
              "model_id": "27fd0040e65e45c6b1182c7881eb242c",
              "version_minor": 0,
              "version_major": 2
            },
            "text/plain": [
              "HBox(children=(FloatProgress(value=0.0, max=26630.0), HTML(value='')))"
            ]
          },
          "metadata": {
            "tags": []
          }
        },
        {
          "output_type": "stream",
          "text": [
            "\n"
          ],
          "name": "stdout"
        }
      ]
    },
    {
      "cell_type": "code",
      "metadata": {
        "id": "A7_Z_FPN-qtp"
      },
      "source": [
        "sys = test_bleu['predictions'].tolist()"
      ],
      "execution_count": null,
      "outputs": []
    },
    {
      "cell_type": "code",
      "metadata": {
        "colab": {
          "base_uri": "https://localhost:8080/"
        },
        "id": "WoTCtEUI-0_K",
        "outputId": "010ee8a5-028f-4682-982a-a0e60b6cab6e"
      },
      "source": [
        "import sacrebleu\n",
        "bleu = sacrebleu.corpus_bleu(sys, ref)\n",
        "print(bleu.score,'%')"
      ],
      "execution_count": null,
      "outputs": [
        {
          "output_type": "stream",
          "text": [
            "18.547239641706273 %\n"
          ],
          "name": "stdout"
        }
      ]
    },
    {
      "cell_type": "code",
      "metadata": {
        "colab": {
          "base_uri": "https://localhost:8080/",
          "height": 418
        },
        "id": "4wA7minoJk3t",
        "outputId": "96061641-d0f2-4ddc-cd3b-0997d2479039"
      },
      "source": [
        "#test.head(10).French.tolist()\r\n",
        "test.head(10)"
      ],
      "execution_count": null,
      "outputs": [
        {
          "output_type": "execute_result",
          "data": {
            "text/html": [
              "<div>\n",
              "<style scoped>\n",
              "    .dataframe tbody tr th:only-of-type {\n",
              "        vertical-align: middle;\n",
              "    }\n",
              "\n",
              "    .dataframe tbody tr th {\n",
              "        vertical-align: top;\n",
              "    }\n",
              "\n",
              "    .dataframe thead th {\n",
              "        text-align: right;\n",
              "    }\n",
              "</style>\n",
              "<table border=\"1\" class=\"dataframe\">\n",
              "  <thead>\n",
              "    <tr style=\"text-align: right;\">\n",
              "      <th></th>\n",
              "      <th>ID</th>\n",
              "      <th>French</th>\n",
              "      <th>Target_Language</th>\n",
              "    </tr>\n",
              "  </thead>\n",
              "  <tbody>\n",
              "    <tr>\n",
              "      <th>0</th>\n",
              "      <td>ID_AAAAhgRX</td>\n",
              "      <td>Très fière d’elle</td>\n",
              "      <td>Ewe</td>\n",
              "    </tr>\n",
              "    <tr>\n",
              "      <th>1</th>\n",
              "      <td>ID_AAGuzGzi</td>\n",
              "      <td>Tous ces grands artistes viendront au Benin pour prendre part à la cérémonie du lancement de l'album l'année prochaine au stade de l'Amitié.</td>\n",
              "      <td>Fon</td>\n",
              "    </tr>\n",
              "    <tr>\n",
              "      <th>2</th>\n",
              "      <td>ID_AAuiTPkQ</td>\n",
              "      <td>Ce programme va travailler à améliorer les conditions de vie des populations et impliquer davantage le secteur privé dans la gestion des richesses nationales.</td>\n",
              "      <td>Fon</td>\n",
              "    </tr>\n",
              "    <tr>\n",
              "      <th>3</th>\n",
              "      <td>ID_ACYgGXTq</td>\n",
              "      <td>Quels sont les questions récurrentes de ceux qui sont curieux de savoir pourquoi cette initiative, notamment sur les réseaux sociaux</td>\n",
              "      <td>Fon</td>\n",
              "    </tr>\n",
              "    <tr>\n",
              "      <th>4</th>\n",
              "      <td>ID_AChdWHyF</td>\n",
              "      <td>Grosse bagnolle</td>\n",
              "      <td>Ewe</td>\n",
              "    </tr>\n",
              "    <tr>\n",
              "      <th>5</th>\n",
              "      <td>ID_AFBqjFUm</td>\n",
              "      <td>La septième fois, penché en avant, je reçus sur moi l’eau qui avait préalablement coulé du toit de la maison</td>\n",
              "      <td>Fon</td>\n",
              "    </tr>\n",
              "    <tr>\n",
              "      <th>6</th>\n",
              "      <td>ID_AFFhTuyI</td>\n",
              "      <td>Depuis lors,  – de sa signature d’artiste – ne cesse de s’exprimer à travers le monde et de transmettre des messages forts au travers de ses œuvres colorées, inspirées de sa culture africaine, des personnes qu’ils croisent et de sa vision</td>\n",
              "      <td>Fon</td>\n",
              "    </tr>\n",
              "    <tr>\n",
              "      <th>7</th>\n",
              "      <td>ID_AGLORnKo</td>\n",
              "      <td>On a dit à Kpadonou qu'il devra repasser l'examen.</td>\n",
              "      <td>Fon</td>\n",
              "    </tr>\n",
              "    <tr>\n",
              "      <th>8</th>\n",
              "      <td>ID_AGZbvlsl</td>\n",
              "      <td>Une autre personne ne me fera pas ça, donc c’est bon d’avoir d’enfant</td>\n",
              "      <td>Fon</td>\n",
              "    </tr>\n",
              "    <tr>\n",
              "      <th>9</th>\n",
              "      <td>ID_AGdMSyhM</td>\n",
              "      <td>Parle-nous de deux de tes œuvres « L’amour dans la vieillesse » et « le couple souriant »</td>\n",
              "      <td>Fon</td>\n",
              "    </tr>\n",
              "  </tbody>\n",
              "</table>\n",
              "</div>"
            ],
            "text/plain": [
              "            ID  ... Target_Language\n",
              "0  ID_AAAAhgRX  ...             Ewe\n",
              "1  ID_AAGuzGzi  ...             Fon\n",
              "2  ID_AAuiTPkQ  ...             Fon\n",
              "3  ID_ACYgGXTq  ...             Fon\n",
              "4  ID_AChdWHyF  ...             Ewe\n",
              "5  ID_AFBqjFUm  ...             Fon\n",
              "6  ID_AFFhTuyI  ...             Fon\n",
              "7  ID_AGLORnKo  ...             Fon\n",
              "8  ID_AGZbvlsl  ...             Fon\n",
              "9  ID_AGdMSyhM  ...             Fon\n",
              "\n",
              "[10 rows x 3 columns]"
            ]
          },
          "metadata": {
            "tags": []
          },
          "execution_count": 59
        }
      ]
    },
    {
      "cell_type": "code",
      "metadata": {
        "id": "IG-oc7CWd5z0",
        "colab": {
          "base_uri": "https://localhost:8080/",
          "height": 66,
          "referenced_widgets": [
            "252e2ef4487c41189b99e764e53a1efc",
            "1d7f7d2dcfcc48d89b650593f1902ceb",
            "de38bba1e30f4af9b64ae2d9d7c1e0a1",
            "2be2df582b0d4cf1804f371ea4c99dcf",
            "0da4c37a4e594144b45ddd0fb138c375",
            "e3d2a7fa239d4784b182f1b117aa957f",
            "f94681c12af8488e88f2bb7cbe7d72ac",
            "33aa8c4380834e1dbc06db7a4e8b42d2"
          ]
        },
        "outputId": "d2fef57f-d265-483a-910d-9dc9b20aeebe"
      },
      "source": [
        "# clean the dots at the end of sentences\r\n",
        "sub['predictions'] = test.French.progress_apply(clean)"
      ],
      "execution_count": null,
      "outputs": [
        {
          "output_type": "display_data",
          "data": {
            "application/vnd.jupyter.widget-view+json": {
              "model_id": "252e2ef4487c41189b99e764e53a1efc",
              "version_minor": 0,
              "version_major": 2
            },
            "text/plain": [
              "HBox(children=(FloatProgress(value=0.0, max=5893.0), HTML(value='')))"
            ]
          },
          "metadata": {
            "tags": []
          }
        },
        {
          "output_type": "stream",
          "text": [
            "\n"
          ],
          "name": "stdout"
        }
      ]
    },
    {
      "cell_type": "code",
      "metadata": {
        "id": "v6BUZvLXelqW",
        "colab": {
          "base_uri": "https://localhost:8080/",
          "height": 66,
          "referenced_widgets": [
            "cd4cd24f278147d192b4c2c53118fd64",
            "fcaba1d9796e4d678b134e213ef414da",
            "33764fa723864a6daa0ab207358b735f",
            "b92bfcf58b504ad6a119f20874b3a503",
            "8553db4725894160aaae5f0c35401025",
            "77b7222a759342c888264436d2ef0e3a",
            "d3c443f4f44a4e07a17bb8e04d9ba4e3",
            "8b566c7021214240850b6b9c59e1b8a6"
          ]
        },
        "outputId": "6801ced7-f9a9-4357-97a2-89a852fc22d7"
      },
      "source": [
        "sub['predictions'] = sub.predictions.progress_apply(translate)"
      ],
      "execution_count": null,
      "outputs": [
        {
          "output_type": "display_data",
          "data": {
            "application/vnd.jupyter.widget-view+json": {
              "model_id": "cd4cd24f278147d192b4c2c53118fd64",
              "version_minor": 0,
              "version_major": 2
            },
            "text/plain": [
              "HBox(children=(FloatProgress(value=0.0, max=5893.0), HTML(value='')))"
            ]
          },
          "metadata": {
            "tags": []
          }
        },
        {
          "output_type": "stream",
          "text": [
            "\n"
          ],
          "name": "stdout"
        }
      ]
    },
    {
      "cell_type": "code",
      "metadata": {
        "colab": {
          "base_uri": "https://localhost:8080/",
          "height": 66,
          "referenced_widgets": [
            "c6a79b1882a8469cb629ad56cf1b5c0e",
            "841ec82bf5014865a0e133f1a815d980",
            "e66cfd2e360f470e95daa86fa4e69fd0",
            "fde0fe664ea74b65a1d00a9259652cfc",
            "00ec31d2cd5f45bfa0037da76488b7f8",
            "49060dd104104837a8c6fa68d14a695c",
            "1e07b58e59554f35bae3cda087b0b4e5",
            "fc3b6bb531364675ac7435ba4115c415"
          ]
        },
        "id": "lzmMIsBWauwk",
        "outputId": "17301399-4bdb-4fb0-d5f6-cb636132e924"
      },
      "source": [
        "# clean the dots at the end of sentences\r\n",
        "sub['predictions'] = sub.predictions.progress_apply(clean)"
      ],
      "execution_count": null,
      "outputs": [
        {
          "output_type": "display_data",
          "data": {
            "application/vnd.jupyter.widget-view+json": {
              "model_id": "c6a79b1882a8469cb629ad56cf1b5c0e",
              "version_minor": 0,
              "version_major": 2
            },
            "text/plain": [
              "HBox(children=(FloatProgress(value=0.0, max=5893.0), HTML(value='')))"
            ]
          },
          "metadata": {
            "tags": []
          }
        },
        {
          "output_type": "stream",
          "text": [
            "\n"
          ],
          "name": "stdout"
        }
      ]
    },
    {
      "cell_type": "markdown",
      "metadata": {
        "id": "P5VMupzQcyDY"
      },
      "source": [
        "# Soumission sur Zindi"
      ]
    },
    {
      "cell_type": "code",
      "metadata": {
        "id": "Y9vzdzZKHhw4",
        "colab": {
          "base_uri": "https://localhost:8080/",
          "height": 267
        },
        "outputId": "b3977227-a714-4de0-cd48-df0f16610996"
      },
      "source": [
        "soumission = pd.DataFrame({'ID':sub.ID, 'Target':sub.predictions})\r\n",
        "soumission.head()"
      ],
      "execution_count": null,
      "outputs": [
        {
          "output_type": "execute_result",
          "data": {
            "text/html": [
              "<div>\n",
              "<style scoped>\n",
              "    .dataframe tbody tr th:only-of-type {\n",
              "        vertical-align: middle;\n",
              "    }\n",
              "\n",
              "    .dataframe tbody tr th {\n",
              "        vertical-align: top;\n",
              "    }\n",
              "\n",
              "    .dataframe thead th {\n",
              "        text-align: right;\n",
              "    }\n",
              "</style>\n",
              "<table border=\"1\" class=\"dataframe\">\n",
              "  <thead>\n",
              "    <tr style=\"text-align: right;\">\n",
              "      <th></th>\n",
              "      <th>ID</th>\n",
              "      <th>Target</th>\n",
              "    </tr>\n",
              "  </thead>\n",
              "  <tbody>\n",
              "    <tr>\n",
              "      <th>0</th>\n",
              "      <td>ID_nNUszvhL</td>\n",
              "      <td>énɛ́ ɔ́ wú zɛ̀</td>\n",
              "    </tr>\n",
              "    <tr>\n",
              "      <th>1</th>\n",
              "      <td>ID_HbooJGwk</td>\n",
              "      <td>mε tobútobú ɖé lɛ́ bì sín ali enε ɔ mɛ bi ɖo ali enε ɔ mɛ bi ɖo ali enε ɔ mɛ bi ɖo ali enε ɔ mɛ bi ɖo ali enε ɔ mɛ bi ɖo ali enε ɔ mɛ bi ɖo ali enε ɔ mɛ bi ɖo ali enε ɔ mɛ bi ɖo ali enε ɔ mɛ bi ɖo ali enε ɔ mɛ bi ɖo ali enε ɔ mɛ bi</td>\n",
              "    </tr>\n",
              "    <tr>\n",
              "      <th>2</th>\n",
              "      <td>ID_WMxavljL</td>\n",
              "      <td>ali enε ɔ na xa togun enɛ ɔ kpɔn bɔ e na xa togun towe ɖɔhun</td>\n",
              "    </tr>\n",
              "    <tr>\n",
              "      <th>3</th>\n",
              "      <td>ID_pldWaUHs</td>\n",
              "      <td>mɛɖe ɖe lɛ mɔ ye ma ɖu ɖo ye ɖɔ ye ɖo to lɛ ɔ , ɖe lɛ mɔ ye ma ɖu ɖo ye ɖɔ ye ɖo to lɛ ɔ , ɖe lɛ mɔ ye ma ɖu ɖo ye ɖɔ ye ɖo to lɛ ɔ , ɖe lɛ mɔ ye ma ɖu ɖo ye ɖɔ ye ɖo to lɛ ɔ , ɖe lɛ mɔ ye ma ɖu ɖo ye ɖɔ ye</td>\n",
              "    </tr>\n",
              "    <tr>\n",
              "      <th>4</th>\n",
              "      <td>ID_gjCwdavy</td>\n",
              "      <td>degenɔ kpikpò - degénɔ́kpikpó - degénɔ́kpúkpó - degénɔ́kpúkpwé</td>\n",
              "    </tr>\n",
              "  </tbody>\n",
              "</table>\n",
              "</div>"
            ],
            "text/plain": [
              "            ID                                                                                                                                                                                                                                   Target\n",
              "0  ID_nNUszvhL                                                                                                                                                                                                                           énɛ́ ɔ́ wú zɛ̀\n",
              "1  ID_HbooJGwk  mε tobútobú ɖé lɛ́ bì sín ali enε ɔ mɛ bi ɖo ali enε ɔ mɛ bi ɖo ali enε ɔ mɛ bi ɖo ali enε ɔ mɛ bi ɖo ali enε ɔ mɛ bi ɖo ali enε ɔ mɛ bi ɖo ali enε ɔ mɛ bi ɖo ali enε ɔ mɛ bi ɖo ali enε ɔ mɛ bi ɖo ali enε ɔ mɛ bi ɖo ali enε ɔ mɛ bi\n",
              "2  ID_WMxavljL                                                                                                                                                                             ali enε ɔ na xa togun enɛ ɔ kpɔn bɔ e na xa togun towe ɖɔhun\n",
              "3  ID_pldWaUHs                           mɛɖe ɖe lɛ mɔ ye ma ɖu ɖo ye ɖɔ ye ɖo to lɛ ɔ , ɖe lɛ mɔ ye ma ɖu ɖo ye ɖɔ ye ɖo to lɛ ɔ , ɖe lɛ mɔ ye ma ɖu ɖo ye ɖɔ ye ɖo to lɛ ɔ , ɖe lɛ mɔ ye ma ɖu ɖo ye ɖɔ ye ɖo to lɛ ɔ , ɖe lɛ mɔ ye ma ɖu ɖo ye ɖɔ ye\n",
              "4  ID_gjCwdavy                                                                                                                                                                           degenɔ kpikpò - degénɔ́kpikpó - degénɔ́kpúkpó - degénɔ́kpúkpwé"
            ]
          },
          "metadata": {
            "tags": []
          },
          "execution_count": 67
        }
      ]
    },
    {
      "cell_type": "code",
      "metadata": {
        "id": "LoJmRZ5Nd3PB"
      },
      "source": [
        "soumission.to_csv(dossier+'/Soumissions/soumission2.csv', index=False)"
      ],
      "execution_count": null,
      "outputs": []
    },
    {
      "cell_type": "markdown",
      "metadata": {
        "id": "PzXbb9GjidWr"
      },
      "source": [
        "FIN"
      ]
    }
  ]
}